{
 "cells": [
  {
   "cell_type": "markdown",
   "metadata": {
    "deletable": false,
    "editable": false,
    "nbgrader": {
     "cell_type": "markdown",
     "checksum": "197ccb5fe2224b4d96cbca6f647514f1",
     "grade": false,
     "grade_id": "cell-3cde71d7f696d69d",
     "locked": true,
     "schema_version": 3,
     "solution": false,
     "task": false
    }
   },
   "source": [
    "# Assignment 3 - Monte Carlo Methods\n",
    "\n",
    "\n",
    "Before you start with this problem:\n",
    "- Study the corresponding slide deck(s) and consider re-watching the lecture recording(s).\n",
    "- Internalize the material until you feel confident you can work with them or implement them yourself. Only then start working on this assignment; otherwise, you will waste a lot of time.\n",
    "\n",
    "---\n",
    "\n",
    "<div class=\"alert alert-warning\">\n",
    "\n",
    "**Due-Date:** see Moodle\n",
    "   \n",
    "**Constraints**: Operations on SciPy and NumPy arrays only.\n",
    "  \n",
    "**Automatic Grading:** \n",
    "\n",
    "- Replace the placeholders `# YOUR CODE HERE` `raise NotImplementedError()` / `YOUR ANSWER HERE` with your code / answers.\n",
    "- make sure to remove all `raise NotImplementedError()` statements\n",
    "- Put results in the corresponding variable; otherwise, we will not grade your solution (i.e., we assign 0 points).\n",
    "- Do not delete cells.\n",
    "    \n",
    "**Submission:** Submit the notebook via Moodle.\n",
    "- naming convention: `k<8 digits of student ID>.ipynb`\n",
    "- correct naming for student with id k01234567: k01234567.ipynb\n",
    "- some examples of incorrectly named submissions:\n",
    "    - k1234567.ipynb (7 digits)\n",
    "    - k01234567.pdf (converted to pdf)\n",
    "    - k01234567.html (converted to html)\n",
    "    - 01234567.ipynb (k is missing)\n",
    "    - k01324567.ipynb (incorrect student ID)\n",
    "    -  ...\n",
    "- notbooks that cannot be assign automatically will not be graded\n",
    "    \n",
    "**Questions?** Post it into the forum!\n",
    "</div>\n",
    "\n",
    "## Running code cells\n",
    "\n",
    "To execute a code cell, use either `Ctrl-Enter`, `Shift-Enter`, or the GUI buttons above.\n",
    "    \n",
    "<div class=\"alert alert-info\">\n",
    "\n",
    "In the third assignment, you will implement algorithms that were presented in the lectures on Monte Carlo methods. You can gain 15 points in total. Please make sure that you do not overlook any of the questions.\n",
    "\n",
    "<br>\n",
    "\n",
    "For this assignment we will use Gymnasium (https://gymnasium.farama.org), the Black Jack environment and the `Fishlake` environment. Please make sure you are using the `fishlake.py` that is distributed along with the current assignment.\n",
    "\n",
    "<br>\n",
    "\n",
    "To solve this exercise, read the notebook carefully from beginning to end and fill out coding parts and answer questions marked with **TODO**.\n",
    "\n",
    "<br>\n",
    "\n",
    "There are a total of 26 points in this assignment. To make sure you do not forget any **TODO**s in this rather long notebook, here is a list:\n",
    "\n",
    "- Implement Episode Generation (2 Points)\n",
    "- Implement MC Policy Evaluation (12 Points)\n",
    "    - First-visit MC Evaluation (6 points)\n",
    "    - Every-visit MC Evaluation (6 points)\n",
    "- Implement MC On-Policy Control (6 Points)\n",
    "- Analysis of MC on Fishlake (6 Points)\n",
    "    - MC vs. DP (2 points)\n",
    "    - True/False questions (4 points) \n",
    "\n",
    "**Do not forget to reset the kernel, and run all the code cells, before saving and submitting the assignment!**\n",
    "</div>"
   ]
  },
  {
   "cell_type": "markdown",
   "metadata": {
    "deletable": false,
    "editable": false,
    "nbgrader": {
     "cell_type": "markdown",
     "checksum": "dfa901bc98d2d085714bb7d31e18543b",
     "grade": false,
     "grade_id": "cell-e7877d49fb59410d",
     "locked": true,
     "schema_version": 3,
     "solution": false,
     "task": false
    }
   },
   "source": [
    "Some# Blackjack - A Model-free Environment, Monte Carlo Methods\n",
    "\n",
    "Let us now try Monte Carlo methods on a model-free environment (where it is very hard / impossible to use Dynamic Programming). We will use the game of Black Jack, as presented in the lecture. In general, MC methods are model free, but you might have used some convenience functions\n",
    "\n",
    "<div class=\"alert alert-info\">\n",
    "\n",
    "The following description is adapted from the environment description at https://gymnasium.farama.org/environments/toy_text/blackjack/:\n",
    "\n",
    "    Blackjack is a card game where the goal is to obtain cards that sum to as\n",
    "    near as possible to 21 without going over. They're playing against dealer\n",
    "    that follows a fixed strategy.\n",
    "    \n",
    "    Face cards (Jack, Queen, King) have point value 10.\n",
    "    Aces can either count as 11 or 1, and it's called 'usable' at 11.\n",
    "    \n",
    "    This game is played with an infinite deck (drawing with replacement).\n",
    "    The game starts with each (player and dealer) having one face up and one\n",
    "    face down card.\n",
    "    \n",
    "    The player can request additional cards (hit=1) until they decide to stop\n",
    "    (stick=0) or exceed 21 (bust).\n",
    "    \n",
    "    After the player sticks, the dealer reveals their facedown card, and draws\n",
    "    until their sum is 17 or greater.\n",
    "    \n",
    "    If the dealer goes bust the player wins.\n",
    "    If neither player nor dealer busts, the outcome (win, lose, draw) is\n",
    "    decided by whose sum is closer to 21.\n",
    "    \n",
    "    The reward for winning is +1, drawing is 0, and losing is -1.\n",
    "    \n",
    "    The observation is a 3-tuple of:\n",
    "    \n",
    "    the players current sum,\n",
    "    the dealer's one showing card (1-10 where 1 is ace),\n",
    "    and whether or not the player holds a usable ace (0 or 1).\n",
    "    \n",
    "    This environment corresponds to the version of the blackjack problem\n",
    "    described in Example 5.1 in Reinforcement Learning: An Introduction\n",
    "    by Sutton and Barto.\n",
    "    \n",
    "</div>"
   ]
  },
  {
   "cell_type": "markdown",
   "metadata": {
    "deletable": false,
    "editable": false,
    "nbgrader": {
     "cell_type": "markdown",
     "checksum": "33e5c986e18ac05ed76cba6e57203b13",
     "grade": false,
     "grade_id": "cell-d1deab6c28bfb002",
     "locked": true,
     "schema_version": 3,
     "solution": false,
     "task": false
    }
   },
   "source": [
    "### Preliminaries\n",
    "\n",
    "What follows are the imports, the instantiation of the BlackJack gym-environment, and the introduction of some helper functions. You will have to run these cells first, before starting to implement and run your algorithms."
   ]
  },
  {
   "cell_type": "code",
   "metadata": {
    "deletable": false,
    "editable": false,
    "nbgrader": {
     "cell_type": "code",
     "checksum": "3f5997d27590f0de3d9a771ad5f5fa92",
     "grade": false,
     "grade_id": "cell-b1e63d3f231bc772",
     "locked": true,
     "schema_version": 3,
     "solution": false,
     "task": false
    },
    "ExecuteTime": {
     "end_time": "2024-12-02T11:40:07.018566Z",
     "start_time": "2024-12-02T11:40:06.998499Z"
    }
   },
   "source": [
    "import matplotlib.pyplot as plt\n",
    "import numpy as np\n",
    "import gymnasium as gym\n",
    "import fishlake\n",
    "import blackjack_convenience as blackjack\n",
    "import testing\n",
    "\n",
    "from collections import defaultdict\n",
    "\n",
    "from typing import List, Tuple, Dict, Callable\n",
    "\n",
    "np.set_printoptions(precision=4, suppress=True, threshold=200)"
   ],
   "outputs": [],
   "execution_count": 26
  },
  {
   "cell_type": "markdown",
   "metadata": {
    "deletable": false,
    "editable": false,
    "nbgrader": {
     "cell_type": "markdown",
     "checksum": "23a862a4fb92fbfc0ef919ba898ca3db",
     "grade": false,
     "grade_id": "cell-6efd009fd5d7dbc4",
     "locked": true,
     "schema_version": 3,
     "solution": false,
     "task": false
    }
   },
   "source": [
    "### Let's play some BlackJack..."
   ]
  },
  {
   "cell_type": "code",
   "metadata": {
    "deletable": false,
    "editable": false,
    "nbgrader": {
     "cell_type": "code",
     "checksum": "d30f877ea601fe4d86a1705eec5ebf99",
     "grade": false,
     "grade_id": "cell-096ab84d6d3c6524",
     "locked": true,
     "schema_version": 3,
     "solution": false,
     "task": false
    },
    "ExecuteTime": {
     "end_time": "2024-12-02T11:40:07.066071Z",
     "start_time": "2024-12-02T11:40:07.028368Z"
    }
   },
   "source": [
    "# the BlackJack environment does **not** give access to the dynamics or the size of the state space\n",
    "# so there is no (easy) way we can use dynamic programming here, we are forced to use model-free methods\n",
    "# the BlackJack environment has no 'render()' function either --- printing the state encoding is enough.\n",
    "# The option `sab=True` follows the simplified Blackjack rules as described in the textbook by Sutton and Barto.\n",
    "blackjack_env = gym.make(\"Blackjack-v1\", sab=True)\n",
    "\n",
    "# we can query the size of the action space:\n",
    "print(\"Size of the action space:\", blackjack_env.action_space.n)\n",
    "\n",
    "# we can (indirectly) query the size of the observation space:\n",
    "print(\"Structure/sizes of the observation space:\", blackjack_env.observation_space)\n",
    "\n",
    "# we can seed the PRNG of the environment for:\n",
    "# - reproducibility\n",
    "# - easier debugging\n",
    "# the PRNG is used by the environment to determine the order of the cards\n",
    "# to reset the environment into its inital state, we can call 'reset()'\n",
    "state, _ = blackjack_env.reset(seed=1234)\n",
    "\n",
    "# let's look at the components of the state encoding of the initial state\n",
    "print(state)"
   ],
   "outputs": [
    {
     "name": "stdout",
     "output_type": "stream",
     "text": [
      "Size of the action space: 2\n",
      "Structure/sizes of the observation space: Tuple(Discrete(32), Discrete(11), Discrete(2))\n",
      "(15, 10, 0)\n"
     ]
    }
   ],
   "execution_count": 27
  },
  {
   "cell_type": "markdown",
   "metadata": {
    "deletable": false,
    "editable": false,
    "nbgrader": {
     "cell_type": "markdown",
     "checksum": "7b1e90815f67456621c6ef896825ff83",
     "grade": false,
     "grade_id": "cell-a6c84ba73f265b06",
     "locked": true,
     "schema_version": 3,
     "solution": false,
     "task": false
    }
   },
   "source": [
    "### The state encoding desugars into this ..."
   ]
  },
  {
   "cell_type": "code",
   "metadata": {
    "deletable": false,
    "editable": false,
    "nbgrader": {
     "cell_type": "code",
     "checksum": "583dc26e25134888c1466dd772b43eed",
     "grade": false,
     "grade_id": "cell-34df0fabd51ce354",
     "locked": true,
     "schema_version": 3,
     "solution": false,
     "task": false
    },
    "ExecuteTime": {
     "end_time": "2024-12-02T11:40:07.077615Z",
     "start_time": "2024-12-02T11:40:07.070513Z"
    }
   },
   "source": [
    "(player_score, dealer_score, usable_ace) = state\n",
    "\n",
    "# We define a type annotation for states to give you a hint in the methods below\n",
    "# whenever a function is expected to receive/output these states\n",
    "BlackJackState = Tuple[int, int, int]"
   ],
   "outputs": [],
   "execution_count": 28
  },
  {
   "cell_type": "markdown",
   "metadata": {
    "deletable": false,
    "editable": false,
    "nbgrader": {
     "cell_type": "markdown",
     "checksum": "517ba02cf308f18336ce7c5e5b09c468",
     "grade": false,
     "grade_id": "cell-b3c8c188b2ef53c8",
     "locked": true,
     "schema_version": 3,
     "solution": false,
     "task": false
    }
   },
   "source": [
    " ... but this is not really important for us!\n",
    "Because the state is already a tuple, we will just use this tuple as a key into several dictionaries. They will store various value function approximations, policies, as well as support data."
   ]
  },
  {
   "cell_type": "markdown",
   "metadata": {
    "deletable": false,
    "editable": false,
    "nbgrader": {
     "cell_type": "markdown",
     "checksum": "041b558c27034e9f3d0389279cfd047f",
     "grade": false,
     "grade_id": "cell-48095aaf033dec92",
     "locked": true,
     "schema_version": 3,
     "solution": false,
     "task": false
    }
   },
   "source": [
    "## Defining Default BlackJack Policies\n",
    "\n",
    "What follows are functions that generate basic policies."
   ]
  },
  {
   "cell_type": "code",
   "metadata": {
    "deletable": false,
    "editable": false,
    "nbgrader": {
     "cell_type": "code",
     "checksum": "e95e09ddaaae48aa9a4a59260d60bf65",
     "grade": false,
     "grade_id": "cell-f4cd573f4f51cc6c",
     "locked": true,
     "schema_version": 3,
     "solution": false,
     "task": false
    },
    "ExecuteTime": {
     "end_time": "2024-12-02T11:40:07.103604Z",
     "start_time": "2024-12-02T11:40:07.083621Z"
    }
   },
   "source": [
    "# Just as we did for BlackJack states, instead of having to write Dict[BlackJackState, np.ndarray]\n",
    "# every time, we define a type annotation for policies. These policies will be\n",
    "# dictionaries that use BlackJackStates as keys and the values are np.ndarrays\n",
    "BlackJackPolicy = Dict[BlackJackState, np.ndarray]\n",
    "\n",
    "\n",
    "# we include here the example policy that was also used in class:\n",
    "def create_example_policy() -> BlackJackPolicy:\n",
    "    \"\"\"\n",
    "    Create a policy that sticks if the player score is >= 20 and hits otherwise.\n",
    "    \"\"\"\n",
    "    policy = dict()\n",
    "    for score in range(4, 22):  # 4 - 21\n",
    "        for dealer_score in range(1, 11):  # 1 - 10\n",
    "            for useable_ace in [1, 0]:\n",
    "                observation = (score, dealer_score, useable_ace)\n",
    "                if score >= 20:\n",
    "                    # stick\n",
    "                    policy[observation] = np.array([1.0, 0.0])\n",
    "                else:\n",
    "                    # hit\n",
    "                    policy[observation] = np.array([0.0, 1.0])\n",
    "    return policy\n",
    "\n",
    "\n",
    "# and the random policy that chooses an action with equal probability\n",
    "def create_random_policy() -> BlackJackPolicy:\n",
    "    \"\"\"\n",
    "    Create the random policy.\n",
    "    \"\"\"\n",
    "    policy = dict()\n",
    "\n",
    "    for score in range(4, 22):\n",
    "        for dealer_score in range(1, 11):\n",
    "            for useable_ace in [1, 0]:\n",
    "                observation = (score, dealer_score, useable_ace)\n",
    "                policy[observation] = np.array([0.5, 0.5])\n",
    "    return policy"
   ],
   "outputs": [],
   "execution_count": 29
  },
  {
   "cell_type": "markdown",
   "metadata": {
    "deletable": false,
    "editable": false,
    "nbgrader": {
     "cell_type": "markdown",
     "checksum": "cec03e3e3f9c0dc5a3ef45f9831a4a83",
     "grade": false,
     "grade_id": "cell-6efb6cd083041c86",
     "locked": true,
     "schema_version": 3,
     "solution": false,
     "task": false
    }
   },
   "source": [
    "---\n",
    "## (1) Episode Generation (2 Points)\n",
    "Here, you will define a helper function that will generate an episode, given an environment and a policy."
   ]
  },
  {
   "cell_type": "code",
   "metadata": {
    "deletable": false,
    "nbgrader": {
     "cell_type": "code",
     "checksum": "fb63c5e772a18f5931881f0e2acdf2a4",
     "grade": false,
     "grade_id": "cell-0284851d3e1a4ca6",
     "locked": false,
     "schema_version": 3,
     "solution": true,
     "task": false
    },
    "ExecuteTime": {
     "end_time": "2024-12-02T11:40:07.119686Z",
     "start_time": "2024-12-02T11:40:07.107632Z"
    }
   },
   "source": [
    "def generate_episode(\n",
    "    rng: np.random._generator.Generator,\n",
    "    env: gym.Env,\n",
    "    policy: BlackJackPolicy,\n",
    "    seed: int = 1234,\n",
    ") -> List[Tuple[BlackJackState, int, float]]:\n",
    "    \"\"\"Helper function to generate an episode given an environment and a policy.\n",
    "\n",
    "    Args:\n",
    "        rng: random number generator\n",
    "        env: the gym environment\n",
    "        policy: the policy to follow during the episode\n",
    "        seed: seed for the random number generator\n",
    "\n",
    "    Returns:\n",
    "        episode: The sequence of states, actions and rewards in the episode.\n",
    "    \"\"\"\n",
    "    # implement a helper function to generate an episode, given an environment and a policy\n",
    "    # an episode is a list of (state, action, reward) tuples:\n",
    "    # episode = [\n",
    "    #    (state_1, action_1, reward_2),\n",
    "    #    (state_2, action_2, reward_3),\n",
    "    #    ...\n",
    "    #    (state_T-1, action_T-1, reward_T)\n",
    "    # ]\n",
    "    state, _ = env.reset(seed=int(seed))\n",
    "    actions = np.arange(env.action_space.n, dtype=int)\n",
    "    episode = []\n",
    "    done = False\n",
    "    # while not done:\n",
    "    #     action = rng.choice(actions, p=policy[state])\n",
    "    # TODO\n",
    "\n",
    "    # YOUR CODE HERE\n",
    "    while not done:\n",
    "        # Select action according to policy probabilities for current state\n",
    "        action = rng.choice(actions, p=policy[state])\n",
    "        \n",
    "        # Take action in environment\n",
    "        next_state, reward, terminated, truncated, _ = env.step(action)\n",
    "        \n",
    "        # Store (state, action, reward) tuple\n",
    "        episode.append((state, action, reward))\n",
    "        \n",
    "        # Update for next iteration\n",
    "        state = next_state\n",
    "        done = terminated or truncated\n",
    "        \n",
    "    return episode\n",
    "\n",
    "\n",
    "# For typing convenience, we can define the \"typing hint\"\n",
    "#  for this function\n",
    "EpisodeGenerator = Callable[\n",
    "    [\n",
    "        np.random._generator.Generator,\n",
    "        gym.Env,\n",
    "        BlackJackPolicy,\n",
    "        int,\n",
    "    ],\n",
    "    List[Tuple[BlackJackState, int, float]],\n",
    "]"
   ],
   "outputs": [],
   "execution_count": 30
  },
  {
   "cell_type": "code",
   "metadata": {
    "deletable": false,
    "editable": false,
    "nbgrader": {
     "cell_type": "code",
     "checksum": "9ce7d446d6760d3b169d07a6c097047c",
     "grade": true,
     "grade_id": "cell-9361263d4167476e",
     "locked": true,
     "points": 2,
     "schema_version": 3,
     "solution": false,
     "task": false
    },
    "ExecuteTime": {
     "end_time": "2024-12-02T11:40:07.143712Z",
     "start_time": "2024-12-02T11:40:07.123776Z"
    }
   },
   "source": [
    "rng = np.random.default_rng(1245)\n",
    "random_policy = create_random_policy()\n",
    "episode = generate_episode(\n",
    "    rng=rng,\n",
    "    env=blackjack_env,\n",
    "    policy=random_policy,\n",
    "    seed=4321,\n",
    ")\n",
    "print(episode)\n",
    "\n",
    "assert len(episode) > 0, \"Your implementation of generates empty episodes\"\n",
    "for s, a, r in episode:\n",
    "    assert testing.is_type(s, tuple)\n",
    "    assert testing.is_type(s[0], [int, np.int64])\n",
    "    assert testing.is_type(s[1], [int, np.int64])\n",
    "    assert testing.is_type(s[2], int)\n",
    "    assert testing.is_type(a, [int, np.int64])\n",
    "    assert testing.is_type(r, [float, int, np.int64])\n",
    "\n",
    "    print(s, a, r)\n",
    "\n"
   ],
   "outputs": [
    {
     "name": "stdout",
     "output_type": "stream",
     "text": [
      "[((17, 10, 0), 1, 0.0), ((21, 10, 0), 1, -1.0)]\n",
      "(17, 10, 0) 1 0.0\n",
      "(21, 10, 0) 1 -1.0\n"
     ]
    }
   ],
   "execution_count": 31
  },
  {
   "cell_type": "markdown",
   "metadata": {
    "deletable": false,
    "editable": false,
    "nbgrader": {
     "cell_type": "markdown",
     "checksum": "f5d05c3613394ed7d141a1cc279e00a9",
     "grade": false,
     "grade_id": "cell-478d14ea6076069dp",
     "locked": true,
     "schema_version": 3,
     "solution": false,
     "task": false
    },
    "tags": []
   },
   "source": [
    "## (2) Monte Carlo Evaluation (12 Points)\n",
    "Ler's get started: implement the first-visit and every-visit MC policy evaluation algorithms and compare them.\n",
    "\n",
    "### (2.1) First-Visit MC Policy Evaluation (6 points)\n",
    "\n",
    "Let's start with the first-visit MC policy evaluation algorithm."
   ]
  },
  {
   "cell_type": "code",
   "metadata": {
    "deletable": false,
    "nbgrader": {
     "cell_type": "code",
     "checksum": "a751db16f732a71c2ce0d78b966b91e1",
     "grade": false,
     "grade_id": "cell-3631d74cd41db436",
     "locked": false,
     "schema_version": 3,
     "solution": true,
     "task": false
    },
    "ExecuteTime": {
     "end_time": "2024-12-02T11:40:07.172231Z",
     "start_time": "2024-12-02T11:40:07.147399Z"
    }
   },
   "source": [
    "def mc_first_visit_policy_evaluation(\n",
    "    rng: np.random._generator.Generator,\n",
    "    env: gym.Env,\n",
    "    policy: BlackJackPolicy,\n",
    "    generate_episode_func: EpisodeGenerator,\n",
    "    n_episodes: int,\n",
    "    gamma: float = 1.0,\n",
    "    n_print_every: int = 10**4,\n",
    "    seed: int = 1234,\n",
    ") -> Dict[BlackJackState, float]:\n",
    "    \"\"\"\n",
    "    Monte Carlo prediction algorithm, which calculates the value function\n",
    "    for a given policy\n",
    "\n",
    "    Args:\n",
    "        rng: random number generator\n",
    "        env: the gym environment\n",
    "        policy: the policy to be evaluated\n",
    "        generate_episode_func: the method for generating episodes.\n",
    "        n_episodes: number of episodes to sample\n",
    "        gamma: the discount factor\n",
    "        n_print_every: print a message after this many episodes\n",
    "        seed: seed for the random number generator.\n",
    "\n",
    "    Returns:\n",
    "        the value function associated with 'policy'\n",
    "    \"\"\"\n",
    "    # a note on the value function estimate 'V', 'G_sum' and 'G_count':\n",
    "    # those functions must be stored as a 'dict' or 'defaultdict', where\n",
    "    #\n",
    "    # 'key' is a tuple encoding the state (player_sum, dealer_sum, useable_ace)\n",
    "    #\n",
    "    # and\n",
    "    #\n",
    "    # 'value' is the value of this state\n",
    "    #\n",
    "    # print(V) should yield something similar to this (except for the actual numerical values):\n",
    "    #\n",
    "    #     defaultdict(float,\n",
    "    #             {(21, 10, 1): 0.8863134657836644,\n",
    "    #              (7, 10, 0): -0.563816604708798,\n",
    "    #              (11, 10, 0): -0.10879368658399098,\n",
    "    #              (20, 10, 0): 0.43548387096774194,\n",
    "    #              (13, 7, 1): -0.3431372549019608,\n",
    "    #              (12, 7, 0): -0.5573080967402734,\n",
    "    #              (21, 7, 0): 0.9257294429708223,\n",
    "    #              (13, 6, 0): -0.5404255319148936,\n",
    "    #              (19, 6, 0): -0.6908077994428969,\n",
    "    #              ...})\n",
    "    #\n",
    "    # please make sure you use this format, as only then the very convenient plotting function will work\n",
    "    #\n",
    "    # for more info checkout the documentation on 'defaultdict':\n",
    "    # https://docs.python.org/3/library/collections.html?highlight=defaultdict#collections.defaultdict\n",
    "    #\n",
    "    # if this is too much voodoo for you, you can use 'dict', but you have to do extra steps there\n",
    "    # in case a key does not exist in the dictionary yet!\n",
    "    G_sum = defaultdict(lambda: 0.0)\n",
    "    G_count = defaultdict(lambda: 0.0)\n",
    "\n",
    "    for i_episode in range(1, n_episodes + 1):\n",
    "        if i_episode % n_print_every == 0:\n",
    "            print(\"\\rEpisode {}/{}.\".format(i_episode, n_episodes))\n",
    "\n",
    "        episode = generate_episode_func(\n",
    "            rng=rng,\n",
    "            env=env,\n",
    "            policy=policy,\n",
    "            seed=int(seed + i_episode),\n",
    "        )\n",
    "\n",
    "        # TODO: compute return G, update G_sum, G_count\n",
    "        # YOUR CODE HERE\n",
    "        # Get states from episode\n",
    "        states_in_episode = [s for s, _, _ in episode]\n",
    "        \n",
    "        # Calculate returns for each step\n",
    "        G = 0.0\n",
    "        # Process episode backwards\n",
    "        for t in range(len(episode)-1, -1, -1):\n",
    "            state, _, reward = episode[t]\n",
    "            \n",
    "            # Calculate return (discounted sum of rewards from time t)\n",
    "            G = gamma * G + reward\n",
    "            \n",
    "            # If this is the first visit to the state\n",
    "            if state not in states_in_episode[:t]:\n",
    "                G_sum[state] += G\n",
    "                G_count[state] += 1.0\n",
    "\n",
    "\n",
    "    V = defaultdict(lambda: 0.0)\n",
    "    # TODO: compute the value function estimate 'V' from 'G_sum' and 'G_count'\n",
    "    # YOUR CODE HERE\n",
    "    for state in G_sum.keys():\n",
    "        if G_count[state] > 0:\n",
    "            V[state] = G_sum[state] / G_count[state]\n",
    "\n",
    "    return V"
   ],
   "outputs": [],
   "execution_count": 32
  },
  {
   "cell_type": "markdown",
   "metadata": {
    "deletable": false,
    "editable": false,
    "nbgrader": {
     "cell_type": "markdown",
     "checksum": "cdba6ca95a0105e70033a7468569dbce",
     "grade": false,
     "grade_id": "cell-478d14ea6076069d",
     "locked": true,
     "schema_version": 3,
     "solution": false,
     "task": false
    },
    "tags": []
   },
   "source": [
    "### (2.2) Every-Visit MC Policy Evaluation (6 points)"
   ]
  },
  {
   "cell_type": "code",
   "metadata": {
    "deletable": false,
    "nbgrader": {
     "cell_type": "code",
     "checksum": "d85a84e6444e43f99cf80c7b384b3808",
     "grade": false,
     "grade_id": "cell-33fae9d1cad4b504",
     "locked": false,
     "schema_version": 3,
     "solution": true,
     "task": false
    },
    "ExecuteTime": {
     "end_time": "2024-12-02T11:40:07.201721Z",
     "start_time": "2024-12-02T11:40:07.179584Z"
    }
   },
   "source": [
    "def mc_every_visit_policy_evaluation(\n",
    "    rng: np.random._generator.Generator,\n",
    "    env: gym.Env,\n",
    "    policy: BlackJackPolicy,\n",
    "    generate_episode_func: EpisodeGenerator,\n",
    "    n_episodes: int,\n",
    "    gamma: float = 1.0,\n",
    "    n_print_every: int = 10**4,\n",
    "    seed: int = 1234,\n",
    ") -> Dict[BlackJackState, float]:\n",
    "    \"\"\"\n",
    "    Monte Carlo prediction algorithm, which calculates the value function\n",
    "    for a given policy, aggregating the returns for a state at every visit in\n",
    "    every episode.\n",
    "\n",
    "    Args:\n",
    "        rng: random number generator\n",
    "        env: the gym environment\n",
    "        policy: the policy to be evaluated\n",
    "        generate_episode_func: the method for generating episodes.\n",
    "        n_episodes: number of episodes to sample\n",
    "        gamma: the discount factor\n",
    "        n_print_every: print a message after this many episodes\n",
    "        seed: seed for the random number generator.\n",
    "    Returns:\n",
    "        the value function associated with 'policy'\n",
    "    \"\"\"\n",
    "    G_sum = defaultdict(lambda: 0.0)\n",
    "    G_count = defaultdict(lambda: 0.0)\n",
    "\n",
    "    for i_episode in range(1, n_episodes + 1):\n",
    "        if i_episode % n_print_every == 0:\n",
    "            print(\"\\rEpisode {}/{}.\".format(i_episode, n_episodes))\n",
    "\n",
    "        episode = generate_episode_func(\n",
    "            rng=rng,\n",
    "            env=env,\n",
    "            policy=policy,\n",
    "            seed=int(seed + i_episode),\n",
    "        )\n",
    "\n",
    "        # TODO: compute return G, update G_sum, G_count\n",
    "        # YOUR CODE HERE\n",
    "        # Calculate returns for each step\n",
    "        G = 0.0\n",
    "        # Process episode backwards\n",
    "        for t in range(len(episode)-1, -1, -1):\n",
    "            state, _, reward = episode[t]\n",
    "            \n",
    "            # Calculate return (discounted sum of rewards from time t)\n",
    "            G = gamma * G + reward\n",
    "            \n",
    "            # Update returns for every visit\n",
    "            G_sum[state] += G\n",
    "            G_count[state] += 1.0\n",
    "\n",
    "    V = defaultdict(lambda: 0.0)\n",
    "    # TODO: compute the value function estimate 'V' from 'G_sum' and 'G_count'\n",
    "    # YOUR CODE HERE\n",
    "    for state in G_sum.keys():\n",
    "        if G_count[state] > 0:\n",
    "            V[state] = G_sum[state] / G_count[state]\n",
    "\n",
    "    return V"
   ],
   "outputs": [],
   "execution_count": 33
  },
  {
   "cell_type": "markdown",
   "metadata": {
    "deletable": false,
    "editable": false,
    "nbgrader": {
     "cell_type": "markdown",
     "checksum": "39346b3b811824c8b435bb00d1bc3a61",
     "grade": false,
     "grade_id": "cell-99928f4330e7f3c5",
     "locked": true,
     "schema_version": 3,
     "solution": false,
     "task": false
    }
   },
   "source": [
    "### Run MC Policy Evaluation for Black Jack\n",
    "Okay, let's now run the implemented algorithms on the Black Jack environment. You already know from the lecture slides what the outputs."
   ]
  },
  {
   "cell_type": "markdown",
   "metadata": {
    "deletable": false,
    "editable": false,
    "nbgrader": {
     "cell_type": "markdown",
     "checksum": "810118558ceeae3af9fc3ffe74dffc00",
     "grade": false,
     "grade_id": "cell-5a9d3f18576db9dd",
     "locked": true,
     "schema_version": 3,
     "solution": false,
     "task": false
    }
   },
   "source": [
    "**First-visit MC Policy Evaluation**"
   ]
  },
  {
   "cell_type": "code",
   "metadata": {
    "deletable": false,
    "editable": false,
    "nbgrader": {
     "cell_type": "code",
     "checksum": "c41cc19b3cc7702129f9dc0d7745e9d8",
     "grade": true,
     "grade_id": "cell-87ae4f642760b6df",
     "locked": true,
     "points": 6,
     "schema_version": 3,
     "solution": false,
     "task": false
    },
    "ExecuteTime": {
     "end_time": "2024-12-02T11:40:35.394429Z",
     "start_time": "2024-12-02T11:40:07.206413Z"
    }
   },
   "source": [
    "# let's create the example policy\n",
    "example_policy = create_example_policy()\n",
    "\n",
    "# TODO: for debugging, it might be a good idea to set this to a smaller value -> only temporarily though!\n",
    "# set it back to (5 * 10 ** 4) before you re-run and submit your notebook!\n",
    "n_episodes = 5 * 10**4\n",
    "\n",
    "seed_sequence = np.random.SeedSequence(1234)\n",
    "rng = np.random.default_rng(seed_sequence)\n",
    "\n",
    "# and now let's see how good the example policy really is\n",
    "fv_policy_value = mc_first_visit_policy_evaluation(\n",
    "    rng,\n",
    "    blackjack_env,\n",
    "    example_policy,\n",
    "    generate_episode_func=generate_episode,\n",
    "    n_episodes=n_episodes,\n",
    ")\n",
    "\n",
    "assert len(fv_policy_value) > 0, \"Your implementation generates an empty value function\"\n",
    "for state, val in fv_policy_value.items():\n",
    "    assert testing.is_type(state, tuple)\n",
    "    assert testing.is_type(state[0], [int, np.int64])\n",
    "    assert testing.is_type(state[1], [int, np.int64])\n",
    "    assert testing.is_type(state[2], int)\n",
    "    assert testing.is_type(val, [float, int])\n",
    "\n"
   ],
   "outputs": [
    {
     "name": "stdout",
     "output_type": "stream",
     "text": [
      "Episode 10000/50000.\n",
      "Episode 20000/50000.\n",
      "Episode 30000/50000.\n",
      "Episode 40000/50000.\n",
      "Episode 50000/50000.\n"
     ]
    }
   ],
   "execution_count": 34
  },
  {
   "cell_type": "code",
   "metadata": {
    "deletable": false,
    "editable": false,
    "nbgrader": {
     "cell_type": "code",
     "checksum": "5048a491d7fbdc9d75f53863b6073756",
     "grade": false,
     "grade_id": "cell-799039fd5ab634ed",
     "locked": true,
     "schema_version": 3,
     "solution": false,
     "task": false
    },
    "ExecuteTime": {
     "end_time": "2024-12-02T11:40:36.793979Z",
     "start_time": "2024-12-02T11:40:35.397278Z"
    }
   },
   "source": [
    "blackjack.plot_value_function(\n",
    "    fv_policy_value,\n",
    "    title=f\"Value Function after {n_episodes} Episodes using First-visit MC Policy Evaluation\",\n",
    ")"
   ],
   "outputs": [
    {
     "data": {
      "text/plain": [
       "<Figure size 640x480 with 0 Axes>"
      ]
     },
     "metadata": {},
     "output_type": "display_data"
    },
    {
     "data": {
      "text/plain": [
       "<Figure size 800x800 with 4 Axes>"
      ],
      "image/png": "[encoded data removed]"
     },
     "metadata": {},
     "output_type": "display_data"
    }
   ],
   "execution_count": 35
  },
  {
   "cell_type": "markdown",
   "metadata": {
    "deletable": false,
    "editable": false,
    "nbgrader": {
     "cell_type": "markdown",
     "checksum": "434c162b97f0a0fe8147b296636f94bd",
     "grade": false,
     "grade_id": "cell-93a5e065c2fa1bb9",
     "locked": true,
     "schema_version": 3,
     "solution": false,
     "task": false
    }
   },
   "source": [
    "**Every visit Policy Estimation**\n",
    "\n",
    "Now let's run exactly the same tests for the every-visit MC policy estimation algorithm."
   ]
  },
  {
   "cell_type": "code",
   "metadata": {
    "deletable": false,
    "editable": false,
    "nbgrader": {
     "cell_type": "code",
     "checksum": "c47091b3a973b8a7c35bd385e7736fbb",
     "grade": true,
     "grade_id": "cell-140b8759327bcd62",
     "locked": true,
     "points": 6,
     "schema_version": 3,
     "solution": false,
     "task": false
    },
    "ExecuteTime": {
     "end_time": "2024-12-02T11:40:59.015327Z",
     "start_time": "2024-12-02T11:40:36.798747Z"
    }
   },
   "source": [
    "# let's create the example policy (the same policy as above)\n",
    "example_policy = create_example_policy()\n",
    "\n",
    "# TODO: for debugging, it might be a good idea to set this to a smaller value -> only temporarily though!\n",
    "# set it back to (5 * 10 ** 4) before you re-run and submit your notebook!\n",
    "n_episodes = 5 * 10**4\n",
    "\n",
    "# DO NOT CHANGE THE RANDOM NUMBER GENERATORS!\n",
    "seed_sequence = np.random.SeedSequence(1234)\n",
    "rng = np.random.default_rng(seed_sequence)\n",
    "\n",
    "# and now let's see how good the example policy really is\n",
    "ev_policy_value = mc_every_visit_policy_evaluation(\n",
    "    rng,\n",
    "    blackjack_env,\n",
    "    example_policy,\n",
    "    n_episodes=n_episodes,\n",
    "    generate_episode_func=generate_episode,\n",
    "    seed=1234,\n",
    ")\n",
    "\n",
    "assert len(ev_policy_value) > 0, \"Your implementation generates an empty value function\"\n",
    "for state, val in ev_policy_value.items():\n",
    "    assert testing.is_type(state, tuple)\n",
    "    assert testing.is_type(state[0], [int, np.int64])\n",
    "    assert testing.is_type(state[1], [int, np.int64])\n",
    "    assert testing.is_type(state[2], int)\n",
    "    assert testing.is_type(val, [float, int])\n",
    "\n"
   ],
   "outputs": [
    {
     "name": "stdout",
     "output_type": "stream",
     "text": [
      "Episode 10000/50000.\n",
      "Episode 20000/50000.\n",
      "Episode 30000/50000.\n",
      "Episode 40000/50000.\n",
      "Episode 50000/50000.\n"
     ]
    }
   ],
   "execution_count": 36
  },
  {
   "cell_type": "code",
   "metadata": {
    "deletable": false,
    "editable": false,
    "nbgrader": {
     "cell_type": "code",
     "checksum": "c638e1ed8a1ce3ed6de2eb375ee6f453",
     "grade": false,
     "grade_id": "cell-1345d039a328273e",
     "locked": true,
     "schema_version": 3,
     "solution": false,
     "task": false
    },
    "ExecuteTime": {
     "end_time": "2024-12-02T11:40:59.917785Z",
     "start_time": "2024-12-02T11:40:59.017528Z"
    }
   },
   "source": [
    "blackjack.plot_value_function(\n",
    "    ev_policy_value,\n",
    "    title=f\"Value Function after {n_episodes} Episodes using Every-visit MC Policy Evaluation\",\n",
    ")"
   ],
   "outputs": [
    {
     "data": {
      "text/plain": [
       "<Figure size 640x480 with 0 Axes>"
      ]
     },
     "metadata": {},
     "output_type": "display_data"
    },
    {
     "data": {
      "text/plain": [
       "<Figure size 800x800 with 4 Axes>"
      ],
      "image/png": "[encoded data removed]"
     },
     "metadata": {},
     "output_type": "display_data"
    }
   ],
   "execution_count": 37
  },
  {
   "cell_type": "markdown",
   "metadata": {
    "deletable": false,
    "editable": false,
    "nbgrader": {
     "cell_type": "markdown",
     "checksum": "71ae7dd88151bc2ad09bf21399bd5fe0",
     "grade": false,
     "grade_id": "cell-b161cbc46cf65c01",
     "locked": true,
     "schema_version": 3,
     "solution": false,
     "task": false
    }
   },
   "source": [
    "## (3) Monte Carlo Control (6 Points)\n",
    "Implement the On-policy every-visit MC control for ε-soft policies algorithm."
   ]
  },
  {
   "cell_type": "code",
   "metadata": {
    "deletable": false,
    "nbgrader": {
     "cell_type": "code",
     "checksum": "58ad58ae38d44792e585e46c7e8391ff",
     "grade": false,
     "grade_id": "cell-01c329370bf8fcf5",
     "locked": false,
     "schema_version": 3,
     "solution": true,
     "task": false
    },
    "ExecuteTime": {
     "end_time": "2024-12-02T11:40:59.932549Z",
     "start_time": "2024-12-02T11:40:59.920037Z"
    }
   },
   "source": [
    "def mc_control_epsilon_greedy(\n",
    "    rng: np.random._generator.Generator,\n",
    "    env: gym.Env,\n",
    "    initial_policy: BlackJackPolicy,\n",
    "    generate_episode_func: EpisodeGenerator,\n",
    "    n_episodes: int = 100,\n",
    "    gamma: float = 1.0,\n",
    "    epsilon: float = 0.1,\n",
    "    n_print_every: int = 10**4,\n",
    "    seed: int = 1234,\n",
    ") -> Tuple[BlackJackPolicy, Dict[BlackJackState, np.ndarray]]:\n",
    "    \"\"\"\n",
    "    On-policy every-visit MC control for ε-soft policies algorithm\n",
    "    Computes an optimal epsilon-greedy policy.\n",
    "\n",
    "    Args:\n",
    "        rng: Random number generator\n",
    "        env: the gym environment\n",
    "        initial_policy: the inital policy as a dict with the state as the key,\n",
    "                        and the values being numpy arrays that store the\n",
    "                        action selection probabilities\n",
    "        generate_episode_func: the method for generating episodes.\n",
    "        n_episodes: number of episodes to sample\n",
    "        gamma: the discount factor\n",
    "        epsilon: chance to sample a random action\n",
    "        n_print_every : Print a message after this many episodes\n",
    "                rng: random number generator\n",
    "        seed: seed for the random number generator.\n",
    "\n",
    "    Returns:\n",
    "        a tuple (policy, Q)\n",
    "        opt_policy is a dict in the same format as the initial_policy\n",
    "        Q is a dict with the state as the key,\n",
    "        and an np.array as value, which contains the state-action values\n",
    "    \"\"\"\n",
    "\n",
    "    # see the note on datastructures in 'mc_policy_evaluation(...)'!\n",
    "    G_sum = defaultdict(lambda: np.zeros(env.action_space.n))\n",
    "    G_count = defaultdict(lambda: np.zeros(env.action_space.n))\n",
    "\n",
    "    # The final action-value function.\n",
    "    # A nested dictionary that maps state -> (action -> action-value).\n",
    "    Q = defaultdict(lambda: np.zeros(env.action_space.n))\n",
    "\n",
    "    # make a copy of the inital policy (it's bad style to change input parameters)\n",
    "    policy = {k: v.copy() for k, v in initial_policy.items()}\n",
    "\n",
    "    for i_episode in range(1, n_episodes + 1):\n",
    "        if i_episode % n_print_every == 0:\n",
    "            print(\"\\rEpisode {}/{}.\".format(i_episode, n_episodes))\n",
    "\n",
    "        episode = generate_episode_func(\n",
    "            rng=rng,\n",
    "            env=env,\n",
    "            policy=policy,\n",
    "            seed=int(seed + i_episode),\n",
    "        )\n",
    "\n",
    "        # TODO: compute return G, update G_sum, G_count, and Q\n",
    "        # YOUR CODE HERE\n",
    "        # Calculate returns for each step\n",
    "        G = 0.0\n",
    "        # Process episode backwards\n",
    "        G = 0\n",
    "        visited_state_action_pairs = set()\n",
    "        \n",
    "        for t in reversed(range(len(episode))):  \n",
    "            state, action, reward = episode[t]\n",
    "            G = gamma * G + reward\n",
    "            if (state, action) not in visited_state_action_pairs:\n",
    "                visited_state_action_pairs.add((state, action))  \n",
    "        \n",
    "                G_sum[state][action] += G\n",
    "                G_count[state][action] += 1\n",
    "                Q[state][action] = G_sum[state][action] / G_count[state][action]\n",
    "\n",
    "        # TODO: \n",
    "                best_action = np.argmax(Q[state])\n",
    "                for a in range(env.action_space.n):\n",
    "                    if state not in policy:\n",
    "                        policy[state] = np.ones(env.action_space.n) / env.action_space.n\n",
    "                    if a == best_action:\n",
    "                        policy[state][a] = 1 - epsilon + (epsilon / env.action_space.n)\n",
    "                    else:\n",
    "                        policy[state][a] = epsilon / env.action_space.n\n",
    "    return policy, Q"
   ],
   "outputs": [],
   "execution_count": 38
  },
  {
   "cell_type": "markdown",
   "metadata": {
    "deletable": false,
    "editable": false,
    "nbgrader": {
     "cell_type": "markdown",
     "checksum": "354452f61809616d3e77727234fd709e",
     "grade": false,
     "grade_id": "cell-922f0c68611c54e7",
     "locked": true,
     "schema_version": 3,
     "solution": false,
     "task": false
    }
   },
   "source": [
    "### Run MC Control for Black Jack\n",
    "Finally, let's compute a better policy for the Black Jack game. One hint: the results may differ slightly from the lecture slides. They will also be different from the optimal policies in the book, as the ones in the book were computed with 'Exploring Starts'. Do not worry too much about it, but you can always try with a few more samples..."
   ]
  },
  {
   "cell_type": "code",
   "metadata": {
    "deletable": false,
    "editable": false,
    "nbgrader": {
     "cell_type": "code",
     "checksum": "aad23647db5fa7e02ee897d1b4699fd5",
     "grade": true,
     "grade_id": "cell-6950407009b1a7c0",
     "locked": true,
     "points": 6,
     "schema_version": 3,
     "solution": false,
     "task": false
    },
    "tags": [],
    "ExecuteTime": {
     "end_time": "2024-12-02T11:41:08.759732Z",
     "start_time": "2024-12-02T11:40:59.935564Z"
    }
   },
   "source": [
    "# here, we start from the example policy\n",
    "n_episodes = 10**4\n",
    "n_print_every = 10**3\n",
    "\n",
    "initial_policy = create_example_policy()\n",
    "\n",
    "# and now run our MC control algorithm\n",
    "opt_policy, opt_Q = mc_control_epsilon_greedy(\n",
    "    rng,\n",
    "    blackjack_env,\n",
    "    initial_policy,\n",
    "    generate_episode_func=generate_episode,\n",
    "    n_episodes=n_episodes,\n",
    "    epsilon=0.1,\n",
    "    n_print_every=n_print_every,\n",
    "    seed=1234,\n",
    ")\n",
    "\n",
    "assert any(\n",
    "    [np.all(initial_policy[st] != val) for st, val in opt_policy.items()]\n",
    "), \"Your policy was not changed\"\n",
    "for state, val in opt_Q.items():\n",
    "    assert testing.is_type(state, tuple)\n",
    "    assert testing.is_type(state[0], [int, np.int64])\n",
    "    assert testing.is_type(state[1], [int, np.int64])\n",
    "    assert testing.is_type(state[2], int)\n",
    "    assert testing.is_type(val, np.ndarray)\n",
    "\n",
    "# determine how good our policy is, in terms of v(s)\n",
    "opt_V = mc_every_visit_policy_evaluation(\n",
    "    rng,\n",
    "    blackjack_env,\n",
    "    opt_policy,\n",
    "    generate_episode_func=generate_episode,\n",
    "    n_episodes=n_episodes,\n",
    "    n_print_every=n_print_every,\n",
    "    seed=1234,\n",
    ")\n",
    "\n"
   ],
   "outputs": [
    {
     "name": "stdout",
     "output_type": "stream",
     "text": [
      "Episode 1000/10000.\n",
      "Episode 2000/10000.\n",
      "Episode 3000/10000.\n",
      "Episode 4000/10000.\n",
      "Episode 5000/10000.\n",
      "Episode 6000/10000.\n",
      "Episode 7000/10000.\n",
      "Episode 8000/10000.\n",
      "Episode 9000/10000.\n",
      "Episode 10000/10000.\n",
      "Episode 1000/10000.\n",
      "Episode 2000/10000.\n",
      "Episode 3000/10000.\n",
      "Episode 4000/10000.\n",
      "Episode 5000/10000.\n",
      "Episode 6000/10000.\n",
      "Episode 7000/10000.\n",
      "Episode 8000/10000.\n",
      "Episode 9000/10000.\n",
      "Episode 10000/10000.\n"
     ]
    }
   ],
   "execution_count": 39
  },
  {
   "cell_type": "code",
   "metadata": {
    "deletable": false,
    "editable": false,
    "nbgrader": {
     "cell_type": "code",
     "checksum": "43dba041cee4d079895d02abf654fd23",
     "grade": false,
     "grade_id": "cell-81fb4df9d4404e73",
     "locked": true,
     "schema_version": 3,
     "solution": false,
     "task": false
    },
    "ExecuteTime": {
     "end_time": "2024-12-02T11:41:09.981530Z",
     "start_time": "2024-12-02T11:41:08.771443Z"
    }
   },
   "source": [
    "# plot the policy\n",
    "blackjack.plot_policy(opt_policy)\n",
    "\n",
    "# and its associated value function\n",
    "blackjack.plot_value_function(opt_V)"
   ],
   "outputs": [
    {
     "data": {
      "text/plain": [
       "<Figure size 800x800 with 2 Axes>"
      ],
      "image/png": "[encoded data removed]"
     },
     "metadata": {},
     "output_type": "display_data"
    },
    {
     "data": {
      "text/plain": [
       "<Figure size 640x480 with 0 Axes>"
      ]
     },
     "metadata": {},
     "output_type": "display_data"
    },
    {
     "data": {
      "text/plain": [
       "<Figure size 800x800 with 4 Axes>"
      ],
      "image/png": "[encoded data removed]"
     },
     "metadata": {},
     "output_type": "display_data"
    }
   ],
   "execution_count": 40
  },
  {
   "cell_type": "markdown",
   "metadata": {
    "deletable": false,
    "editable": false,
    "nbgrader": {
     "cell_type": "markdown",
     "checksum": "93f9de79cb5d4bbba401d3ad70c79599",
     "grade": false,
     "grade_id": "cell-f839e2eb1ca5d4f6",
     "locked": true,
     "schema_version": 3,
     "solution": false,
     "task": false
    }
   },
   "source": [
    "---\n",
    "# Fishlake Revisited with Monte Carlo methods\n",
    "We will now go back to the Fishlake and run the MC algorithms on this problem. You will need to answer a textual question, after you tried MC on the Fishlake environment."
   ]
  },
  {
   "cell_type": "markdown",
   "metadata": {
    "deletable": false,
    "editable": false,
    "nbgrader": {
     "cell_type": "markdown",
     "checksum": "6061a6ccd3df0ced5c6d7ee7c46c7087",
     "grade": false,
     "grade_id": "cell-db38ea54c71e6fa3",
     "locked": true,
     "schema_version": 3,
     "solution": false,
     "task": false
    }
   },
   "source": [
    "In order to run MC, we will need a few convenience functions for converting a value function and policy (a dict in the MC algorithms) to arrays, so we can re-use the existing plotting functions for the Fishlake environment."
   ]
  },
  {
   "cell_type": "code",
   "metadata": {
    "deletable": false,
    "editable": false,
    "nbgrader": {
     "cell_type": "code",
     "checksum": "18f22679a51d22fb9571a4d7dd48c662",
     "grade": false,
     "grade_id": "cell-fc9852fba32f4bd1",
     "locked": true,
     "schema_version": 3,
     "solution": false,
     "task": false
    },
    "ExecuteTime": {
     "end_time": "2024-12-02T11:41:09.989677Z",
     "start_time": "2024-12-02T11:41:09.983851Z"
    }
   },
   "source": [
    "def d2a_policy(env, policy):\n",
    "    policy_array = np.zeros((env.observation_space.n, env.action_space.n))\n",
    "    for state, ap in policy.items():\n",
    "        policy_array[state, :] = ap\n",
    "    return policy_array\n",
    "\n",
    "\n",
    "def d2a_V(env, V):\n",
    "    V_array = np.zeros(env.observation_space.n)\n",
    "    for state, value in V.items():\n",
    "        V_array[state] = value\n",
    "    return V_array\n",
    "\n",
    "\n",
    "def fishlake_random_policy(env):\n",
    "    policy = defaultdict()\n",
    "    for state in range(env.observation_space.n):\n",
    "        policy[state] = np.ones(env.action_space.n) / env.action_space.n\n",
    "    return policy"
   ],
   "outputs": [],
   "execution_count": 41
  },
  {
   "cell_type": "markdown",
   "metadata": {
    "deletable": false,
    "editable": false,
    "nbgrader": {
     "cell_type": "markdown",
     "checksum": "00150f1f18ac1f870e24cee963901e8a",
     "grade": false,
     "grade_id": "cell-421f3aeeeabf621f",
     "locked": true,
     "schema_version": 3,
     "solution": false,
     "task": false
    }
   },
   "source": [
    "## Run MC Evaluation on Fishlake"
   ]
  },
  {
   "cell_type": "code",
   "metadata": {
    "deletable": false,
    "editable": false,
    "nbgrader": {
     "cell_type": "code",
     "checksum": "fd42f47390e6f2daeb14e5bc72958b36",
     "grade": false,
     "grade_id": "cell-87e2138f6fd5f8e7",
     "locked": true,
     "schema_version": 3,
     "solution": false,
     "task": false
    },
    "ExecuteTime": {
     "end_time": "2024-12-02T11:41:10.409099Z",
     "start_time": "2024-12-02T11:41:09.992538Z"
    }
   },
   "source": [
    "# we start with the smaller lake\n",
    "small_lake_env = gym.make(\"FishlakeStreamy-v0\")\n",
    "\n",
    "# let's create a random policy\n",
    "random_policy = fishlake_random_policy(small_lake_env)\n",
    "\n",
    "# and now let's see how good our policy is\n",
    "rng = np.random.default_rng(4321)\n",
    "V_dict = mc_every_visit_policy_evaluation(\n",
    "    rng=rng,\n",
    "    env=small_lake_env,\n",
    "    policy=random_policy,\n",
    "    generate_episode_func=generate_episode,\n",
    "    n_episodes=200,\n",
    "    seed=1234,\n",
    ")"
   ],
   "outputs": [],
   "execution_count": 42
  },
  {
   "cell_type": "code",
   "metadata": {
    "deletable": false,
    "editable": false,
    "nbgrader": {
     "cell_type": "code",
     "checksum": "fbf8ebcecb43e103aa029b45b4232aa1",
     "grade": false,
     "grade_id": "cell-1acdcbfe44fc2f60",
     "locked": true,
     "schema_version": 3,
     "solution": false,
     "task": false
    },
    "ExecuteTime": {
     "end_time": "2024-12-02T11:41:10.821335Z",
     "start_time": "2024-12-02T11:41:10.412294Z"
    }
   },
   "source": [
    "# let's plot this\n",
    "random_policy_array = d2a_policy(small_lake_env, random_policy)\n",
    "V_array = d2a_V(small_lake_env, V_dict)\n",
    "\n",
    "fig, axes = plt.subplots(ncols=2)\n",
    "fishlake.plot_policy(axes[0], small_lake_env, random_policy_array)\n",
    "fishlake.plot_value_function(axes[1], small_lake_env, V_array)\n",
    "plt.show()"
   ],
   "outputs": [
    {
     "name": "stderr",
     "output_type": "stream",
     "text": [
      "/Library/Frameworks/Python.framework/Versions/3.12/lib/python3.12/site-packages/gymnasium/core.py:311: UserWarning: \u001B[33mWARN: env.s2rc to get variables from other wrappers is deprecated and will be removed in v1.0, to get this variable you can do `env.unwrapped.s2rc` for environment variables or `env.get_wrapper_attr('s2rc')` that will search the reminding wrappers.\u001B[0m\n",
      "  logger.warn(\n",
      "/Library/Frameworks/Python.framework/Versions/3.12/lib/python3.12/site-packages/gymnasium/core.py:311: UserWarning: \u001B[33mWARN: env.desc to get variables from other wrappers is deprecated and will be removed in v1.0, to get this variable you can do `env.unwrapped.desc` for environment variables or `env.get_wrapper_attr('desc')` that will search the reminding wrappers.\u001B[0m\n",
      "  logger.warn(\n",
      "/Library/Frameworks/Python.framework/Versions/3.12/lib/python3.12/site-packages/gymnasium/core.py:311: UserWarning: \u001B[33mWARN: env.ncol to get variables from other wrappers is deprecated and will be removed in v1.0, to get this variable you can do `env.unwrapped.ncol` for environment variables or `env.get_wrapper_attr('ncol')` that will search the reminding wrappers.\u001B[0m\n",
      "  logger.warn(\n",
      "/Library/Frameworks/Python.framework/Versions/3.12/lib/python3.12/site-packages/gymnasium/core.py:311: UserWarning: \u001B[33mWARN: env.nrow to get variables from other wrappers is deprecated and will be removed in v1.0, to get this variable you can do `env.unwrapped.nrow` for environment variables or `env.get_wrapper_attr('nrow')` that will search the reminding wrappers.\u001B[0m\n",
      "  logger.warn(\n"
     ]
    },
    {
     "data": {
      "text/plain": [
       "<Figure size 640x480 with 2 Axes>"
      ],
      "image/png": "[encoded data removed]"
     },
     "metadata": {},
     "output_type": "display_data"
    }
   ],
   "execution_count": 43
  },
  {
   "cell_type": "markdown",
   "metadata": {
    "deletable": false,
    "editable": false,
    "nbgrader": {
     "cell_type": "markdown",
     "checksum": "06424735fb889ffad52c064624262394",
     "grade": false,
     "grade_id": "cell-37c35c1914b1f708",
     "locked": true,
     "schema_version": 3,
     "solution": false,
     "task": false
    }
   },
   "source": [
    "## Run MC Control on Fishlake"
   ]
  },
  {
   "cell_type": "code",
   "metadata": {
    "deletable": false,
    "editable": false,
    "nbgrader": {
     "cell_type": "code",
     "checksum": "6576ea1793b3575aacccbb018f7ac893",
     "grade": false,
     "grade_id": "cell-175caf8fd9382b9c",
     "locked": true,
     "schema_version": 3,
     "solution": false,
     "task": false
    },
    "ExecuteTime": {
     "end_time": "2024-12-02T11:41:26.457507Z",
     "start_time": "2024-12-02T11:41:10.823784Z"
    }
   },
   "source": [
    "# we start with the smaller lake\n",
    "small_lake_env = gym.make(\"FishlakeStreamy-v0\")\n",
    "\n",
    "# let's create a random policy\n",
    "initial_policy = fishlake_random_policy(small_lake_env)\n",
    "rng = np.random.default_rng(4321)\n",
    "opt_policy, opt_Q = mc_control_epsilon_greedy(\n",
    "    rng=rng,\n",
    "    env=small_lake_env,\n",
    "    initial_policy=initial_policy,\n",
    "    generate_episode_func=generate_episode,\n",
    "    n_episodes=10**4,\n",
    "    epsilon=0.1,\n",
    "    seed=1234,\n",
    ")\n",
    "\n",
    "# and now let's see how good our policy is\n",
    "# Running this cell might take a few minutes!!!\n",
    "opt_V = mc_every_visit_policy_evaluation(\n",
    "    rng=rng,\n",
    "    env=small_lake_env,\n",
    "    policy=opt_policy,\n",
    "    generate_episode_func=generate_episode,\n",
    "    n_episodes=10**4,\n",
    "    seed=1234,\n",
    ")"
   ],
   "outputs": [
    {
     "name": "stdout",
     "output_type": "stream",
     "text": [
      "Episode 10000/10000.\n",
      "Episode 10000/10000.\n"
     ]
    }
   ],
   "execution_count": 44
  },
  {
   "cell_type": "code",
   "metadata": {
    "deletable": false,
    "editable": false,
    "nbgrader": {
     "cell_type": "code",
     "checksum": "b0d9cd62e21d90193406f8ebaf6f323a",
     "grade": false,
     "grade_id": "cell-c206ceb407378f20",
     "locked": true,
     "schema_version": 3,
     "solution": false,
     "task": false
    },
    "ExecuteTime": {
     "end_time": "2024-12-02T11:41:26.815701Z",
     "start_time": "2024-12-02T11:41:26.461039Z"
    }
   },
   "source": [
    "# let's plot this\n",
    "opt_policy_array = d2a_policy(small_lake_env, opt_policy)\n",
    "opt_V_array = d2a_V(small_lake_env, opt_V)\n",
    "\n",
    "fig, axes = plt.subplots(ncols=2)\n",
    "fishlake.plot_policy(axes[0], small_lake_env, opt_policy_array)\n",
    "fishlake.plot_value_function(axes[1], small_lake_env, opt_V_array)\n",
    "plt.show()"
   ],
   "outputs": [
    {
     "data": {
      "text/plain": [
       "<Figure size 640x480 with 2 Axes>"
      ],
      "image/png": "[encoded data removed]"
     },
     "metadata": {},
     "output_type": "display_data"
    }
   ],
   "execution_count": 45
  },
  {
   "cell_type": "markdown",
   "metadata": {
    "deletable": false,
    "editable": false,
    "nbgrader": {
     "cell_type": "markdown",
     "checksum": "70b77531b7abd6b45d60232bee2b2a45",
     "grade": false,
     "grade_id": "cell-c1e21644c0e7612f",
     "locked": true,
     "schema_version": 3,
     "solution": false,
     "task": false
    }
   },
   "source": [
    "### (4) Differences DP/MC (2 Point)\n",
    "Compare the results from MC Evaluation and Control with the results you got via dynamic programming in the last exercise. What could be the reasons for the differences you are seeing?"
   ]
  },
  {
   "cell_type": "markdown",
   "metadata": {
    "deletable": false,
    "nbgrader": {
     "cell_type": "markdown",
     "checksum": "dcc7f41b2bf0b8d578b40cfbea895b50",
     "grade": true,
     "grade_id": "cell-3d28d929da71053d",
     "locked": false,
     "points": 2,
     "schema_version": 3,
     "solution": true,
     "task": false
    }
   },
   "source": "The differences between MC and DP results on the Fishlake environment stem from their fundamental approaches to learning. While DP uses complete model information including exact transition probabilities and rewards to calculate precise value estimates for all states, MC must learn from sampled experiences and actual trajectories in the environment. This leads to MC showing more variance in its value estimates, particularly in states that are visited less frequently during episodes. The MC policy appears less stable and optimal compared to DP, partly due to epsilon-greedy exploration forcing some random actions and the variance in return estimates from sampling. Additionally, states near the starting position tend to have better estimates in MC since they're sampled more frequently, whereas DP updates all states equally regardless of their accessibility. These differences highlight the tradeoff between model-free methods like MC, which require less prior knowledge but show more variance, and model-based approaches like DP which provide more precise results but need complete environment information.E"
  },
  {
   "cell_type": "markdown",
   "metadata": {
    "deletable": false,
    "editable": false,
    "nbgrader": {
     "cell_type": "markdown",
     "checksum": "4418b53c20d00b6da65ea386b9877e2e",
     "grade": false,
     "grade_id": "cell-634b7fc06bbfaea2",
     "locked": true,
     "schema_version": 3,
     "solution": false,
     "task": false
    }
   },
   "source": [
    "### (5) Answer whether the following statements are true or false. (4 Points, 1 point per question)\n",
    "1. Following the MC policy above, it is possible for the fisherman to catch the fish.\n",
    "2. If you have a non-episodic task we cannot use Monte Carlo methods\n",
    "3. All Monte Carlo policy estimation methods are biased\n",
    "4. After an infinite number of episodes, first-visit and every-visit Monte Carlo policy estimation algorithms converge to different solutions"
   ]
  },
  {
   "cell_type": "code",
   "metadata": {
    "deletable": false,
    "nbgrader": {
     "cell_type": "code",
     "checksum": "94412d046fda3514afd91fd7f6e38689",
     "grade": false,
     "grade_id": "cell-564f19cd3b5e1038",
     "locked": false,
     "schema_version": 3,
     "solution": true,
     "task": false
    },
    "ExecuteTime": {
     "end_time": "2024-12-02T11:41:26.824122Z",
     "start_time": "2024-12-02T11:41:26.818047Z"
    }
   },
   "source": [
    "results = {\n",
    "    \"1\": None,\n",
    "    \"2\": None,\n",
    "    \"3\": None,\n",
    "    \"4\": None,\n",
    "}\n",
    "\n",
    "# YOUR CODE HERE\n",
    "results = {\n",
    "    \"1\": True,  # Yes, the fisherman can catch the fish - reviewing the policy plot shows paths leading \n",
    "                # to the fish states with non-zero probability, even though it may not be the most efficient route\n",
    "    \n",
    "    \"2\": True,  # Monte Carlo methods cannot be used for non-episodic tasks because they require episodes to \n",
    "                # terminate to calculate the complete return. Without termination, we cannot work backwards to \n",
    "                # compute returns\n",
    "    \n",
    "    \"3\": False, # Monte Carlo methods are actually unbiased estimators of the value function. While individual \n",
    "                # sample returns may vary, their average converges to the true expected value\n",
    "    \n",
    "    \"4\": False, # Both first-visit and every-visit Monte Carlo methods converge to the same true value function \n",
    "                # in the limit of infinite episodes. They just use different data points (first visits vs all visits) \n",
    "                # to arrive at the same result\n",
    "}"
   ],
   "outputs": [],
   "execution_count": 46
  },
  {
   "cell_type": "code",
   "metadata": {
    "deletable": false,
    "editable": false,
    "nbgrader": {
     "cell_type": "code",
     "checksum": "cb6e99d9a5758a6d2244d9a0c544b01e",
     "grade": true,
     "grade_id": "cell-3d88f6308c4e01d3",
     "locked": true,
     "points": 1,
     "schema_version": 3,
     "solution": false,
     "task": false
    },
    "ExecuteTime": {
     "end_time": "2024-12-02T11:41:26.830336Z",
     "start_time": "2024-12-02T11:41:26.826170Z"
    }
   },
   "source": [
    "assert testing.is_type(results[\"1\"], bool)"
   ],
   "outputs": [],
   "execution_count": 47
  },
  {
   "cell_type": "code",
   "metadata": {
    "deletable": false,
    "editable": false,
    "nbgrader": {
     "cell_type": "code",
     "checksum": "3dd1a35b4ec2c940bb3e8490185c8b6f",
     "grade": true,
     "grade_id": "cell-d2d54ed438221705",
     "locked": true,
     "points": 1,
     "schema_version": 3,
     "solution": false,
     "task": false
    },
    "ExecuteTime": {
     "end_time": "2024-12-02T11:41:26.836635Z",
     "start_time": "2024-12-02T11:41:26.832442Z"
    }
   },
   "source": [
    "assert testing.is_type(results[\"2\"], bool)"
   ],
   "outputs": [],
   "execution_count": 48
  },
  {
   "cell_type": "code",
   "metadata": {
    "deletable": false,
    "editable": false,
    "nbgrader": {
     "cell_type": "code",
     "checksum": "64e79e457f9e03568349546e5b821142",
     "grade": true,
     "grade_id": "cell-9f0890bb3a73051d",
     "locked": true,
     "points": 1,
     "schema_version": 3,
     "solution": false,
     "task": false
    },
    "ExecuteTime": {
     "end_time": "2024-12-02T11:41:26.843728Z",
     "start_time": "2024-12-02T11:41:26.839215Z"
    }
   },
   "source": [
    "assert testing.is_type(results[\"3\"], bool)"
   ],
   "outputs": [],
   "execution_count": 49
  },
  {
   "cell_type": "code",
   "metadata": {
    "deletable": false,
    "editable": false,
    "nbgrader": {
     "cell_type": "code",
     "checksum": "1afd80ccf460126a561d8a458be6f0ca",
     "grade": true,
     "grade_id": "cell-bc0af0a34ee850db",
     "locked": true,
     "points": 1,
     "schema_version": 3,
     "solution": false,
     "task": false
    },
    "ExecuteTime": {
     "end_time": "2024-12-02T11:41:26.850202Z",
     "start_time": "2024-12-02T11:41:26.846103Z"
    }
   },
   "source": [
    "assert testing.is_type(results[\"4\"], bool)"
   ],
   "outputs": [],
   "execution_count": 50
  },
  {
   "metadata": {
    "ExecuteTime": {
     "end_time": "2024-12-02T11:41:26.855807Z",
     "start_time": "2024-12-02T11:41:26.852638Z"
    }
   },
   "cell_type": "code",
   "source": "",
   "outputs": [],
   "execution_count": 50
  }
 ],
 "metadata": {
  "kernelspec": {
   "display_name": "Python 3 (ipykernel)",
   "language": "python",
   "name": "python3"
  },
  "language_info": {
   "codemirror_mode": {
    "name": "ipython",
    "version": 3
   },
   "file_extension": ".py",
   "mimetype": "text/x-python",
   "name": "python",
   "nbconvert_exporter": "python",
   "pygments_lexer": "ipython3",
   "version": "3.11.9"
  }
 },
 "nbformat": 4,
 "nbformat_minor": 4
}
