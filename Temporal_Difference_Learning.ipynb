{
 "cells": [
  {
   "cell_type": "markdown",
   "metadata": {
    "deletable": false,
    "editable": false,
    "nbgrader": {
     "cell_type": "markdown",
     "checksum": "7c9bc2a9d2186af2d217ffaa866efaa1",
     "grade": false,
     "grade_id": "cell-d5fa9982ccbc7083",
     "locked": true,
     "schema_version": 3,
     "solution": false,
     "task": false
    },
    "tags": []
   },
   "source": [
    "# Assignment 4 - Temporal Difference Learning\n",
    "\n",
    "Before you start with this problem:\n",
    "- Study the corresponding slide deck(s) and consider re-watching the lecture recording(s).\n",
    "- Internalize the material until you feel confident you can work with them or implement them yourself. Only then start working on this assignment; otherwise, you will waste a lot of time.\n",
    "\n",
    "---\n",
    "\n",
    "<div class=\"alert alert-warning\">\n",
    "\n",
    "**Due-Date:** see Moodle\n",
    "   \n",
    "**Constraints**: Operations on SciPy and NumPy arrays only.\n",
    "  \n",
    "**Automatic Grading:** \n",
    "\n",
    "- Replace the placeholders `# YOUR CODE HERE` `raise NotImplementedError()` / `YOUR ANSWER HERE` with your code / answers.\n",
    "- make sure to remove all `raise NotImplementedError()` statements\n",
    "- Put results in the corresponding variable; otherwise, we will not grade your solution (i.e., we assign 0 points).\n",
    "- Do not delete cells.\n",
    "    \n",
    "**Submission:** Submit the notebook via Moodle.\n",
    "- naming convention: `k<8 digits of student ID>.ipynb`\n",
    "- correct naming for student with id k01234567: k01234567.ipynb\n",
    "- some examples of incorrectly named submissions:\n",
    "    - k1234567.ipynb (7 digits)\n",
    "    - k01234567.pdf (converted to pdf)\n",
    "    - k01234567.html (converted to html)\n",
    "    - 01234567.ipynb (k is missing)\n",
    "    - k01324567.ipynb (incorrect student ID)\n",
    "    -  ...\n",
    "- notbooks that cannot be assign automatically will not be graded\n",
    "  \n",
    "**Questions?** Post it into the forum!\n",
    "</div>\n",
    "\n",
    "<div class=\"alert alert-info\">\n",
    "\n",
    "In the fourth assignment, you will implement algorithms that were presented in the first lecture on temporal difference methods. You can gain 28 points in total. Please make sure that you do not overlook any of the questions.\n",
    "\n",
    "<br>\n",
    "\n",
    "To complete this exercise, read the notebook carefully from beginning to end and fill out coding parts and answer questions marked with **TODO**.\n",
    "\n",
    "<br>\n",
    "\n",
    "To make sure you do not forget any **TODO**s in this rather long notebook, here is a list:\n",
    "\n",
    "- (1) Implement TD(0) (Policy Evaluation) (3 Points)\n",
    "- (2) Implement SARSA (Policy Improvement) (5 Points)\n",
    "- (3) Implement Q-Learning (Policy Improvement) (5 Points)\n",
    "- (4) Implement Expected-SARSA (Policy Improvement) (5 Points)\n",
    "- (5) Questions (10 Points)\n",
    "\n",
    "**Do not forget to reset the kernel, and run all the code cells successfully, before saving and submitting the assignment!**\n",
    "</div>"
   ]
  },
  {
   "cell_type": "markdown",
   "metadata": {
    "deletable": false,
    "editable": false,
    "nbgrader": {
     "cell_type": "markdown",
     "checksum": "0fc5ca1a3ce73a11b959eb63c07d0895",
     "grade": false,
     "grade_id": "cell-6ed9b441a97cb355",
     "locked": true,
     "schema_version": 3,
     "solution": false,
     "task": false
    }
   },
   "source": [
    "# Temporal Difference Learning\n",
    "We will use the `Cliff` environment as featured in the book. It is designed to illustrate the differences of different temporal difference learning methods. You will need to implement evaluation and control algorithms."
   ]
  },
  {
   "cell_type": "markdown",
   "metadata": {
    "deletable": false,
    "editable": false,
    "nbgrader": {
     "cell_type": "markdown",
     "checksum": "3d8e70d993236f187bcccb0760385293",
     "grade": false,
     "grade_id": "cell-382779952d03e068",
     "locked": true,
     "schema_version": 3,
     "solution": false,
     "task": false
    }
   },
   "source": [
    "## (1) TD(0) policy evaluation (3 points)"
   ]
  },
  {
   "cell_type": "markdown",
   "metadata": {
    "deletable": false,
    "editable": false,
    "nbgrader": {
     "cell_type": "markdown",
     "checksum": "9c3c1d54dfaf1b7d81ca44bc6d631619",
     "grade": false,
     "grade_id": "cell-d8b26a07a6a39b1d",
     "locked": true,
     "schema_version": 3,
     "solution": false,
     "task": false
    }
   },
   "source": [
    "We will use an external library here, that you got when you downloaded the assingment from MOODLE. The directory `gym_gridworlds` should be a subdirectory of the folder that you started the Jupyter notebook server in.\n",
    "\n",
    "Your first task is to implement the TD(0) policy evaluation algorithm."
   ]
  },
  {
   "cell_type": "code",
   "execution_count": 1,
   "metadata": {
    "ExecuteTime": {
     "end_time": "2024-12-19T19:48:40.074766Z",
     "start_time": "2024-12-19T19:48:38.810086Z"
    },
    "deletable": false,
    "editable": false,
    "nbgrader": {
     "cell_type": "code",
     "checksum": "23bf6e6131e7860846c72766e91e3fe8",
     "grade": false,
     "grade_id": "cell-fdf3bb8d95c11f3f",
     "locked": true,
     "schema_version": 3,
     "solution": false,
     "task": false
    }
   },
   "outputs": [],
   "source": [
    "import numpy as np\n",
    "import matplotlib.pyplot as plt\n",
    "import gymnasium as gym\n",
    "from collections import defaultdict\n",
    "import gym_gridworlds as gg\n",
    "from typing import List, Tuple, Dict\n",
    "import testing\n",
    "\n",
    "np.set_printoptions(linewidth=200)"
   ]
  },
  {
   "cell_type": "code",
   "execution_count": 2,
   "metadata": {
    "ExecuteTime": {
     "end_time": "2024-12-19T19:48:40.082856Z",
     "start_time": "2024-12-19T19:48:40.076639Z"
    },
    "deletable": false,
    "nbgrader": {
     "cell_type": "code",
     "checksum": "a90f87ab1b80f0d4be76871922bff948",
     "grade": false,
     "grade_id": "cell-af976b8ea7c37ccc",
     "locked": false,
     "schema_version": 3,
     "solution": true,
     "task": false
    }
   },
   "outputs": [],
   "source": [
    "def td_policy_evaluation(\n",
    "    rng: np.random._generator.Generator,\n",
    "    env: gym.Env,\n",
    "    policy: np.ndarray,\n",
    "    num_episodes: int,\n",
    "    gamma: float = 0.999,\n",
    "    alpha: float = 0.1,\n",
    "    seed: int = 1234,\n",
    ") -> Dict[int, float]:\n",
    "    \"\"\"\n",
    "    TD(0) evaluation algorithm, which calculates the value function\n",
    "    for a given policy.\n",
    "\n",
    "    Args:\n",
    "        rng: random number generator\n",
    "        env: the openai gym environment\n",
    "        policy: the policy to be evaluated\n",
    "        num_episodes: number of episodes to sample\n",
    "        gamma: the discount factor\n",
    "        alpha: step size\n",
    "\n",
    "    Returns:\n",
    "        the value function associated with 'policy'\n",
    "    \"\"\"\n",
    "    V = defaultdict(lambda: 0)\n",
    "    actions = np.arange(env.action_space.n)\n",
    "    for si in range(1, num_episodes + 1):\n",
    "        state, _ = env.reset(seed=seed)\n",
    "        done = False\n",
    "        # TODO\n",
    "        # while not done:\n",
    "        # action = rng.choice(actions, p=policy[state])\n",
    "        # YOUR CODE HERE\n",
    "        while not done:\n",
    "            action = rng.choice(actions, p=policy[state])\n",
    "            \n",
    "            next_state, reward, terminated, truncated, _ = env.step(action)\n",
    "            done = terminated or truncated\n",
    "            \n",
    "            V[state] += alpha * (reward + gamma * V[next_state] - V[state])\n",
    "            \n",
    "            state = next_state\n",
    "            \n",
    "            if done:\n",
    "                break\n",
    "    return V"
   ]
  },
  {
   "cell_type": "code",
   "execution_count": 3,
   "metadata": {
    "ExecuteTime": {
     "end_time": "2024-12-19T19:48:40.125816Z",
     "start_time": "2024-12-19T19:48:40.084860Z"
    },
    "deletable": false,
    "editable": false,
    "nbgrader": {
     "cell_type": "code",
     "checksum": "19d359a70a12f78450ceb50ac5d40cad",
     "grade": true,
     "grade_id": "cell-3403fd901f359ee8",
     "locked": true,
     "points": 3,
     "schema_version": 3,
     "solution": false,
     "task": false
    }
   },
   "outputs": [],
   "source": [
    "# let's create an environment\n",
    "cliff_env = gym.make(\"Cliff-v0\")\n",
    "\n",
    "num_episodes = 1\n",
    "alpha = 0.9\n",
    "gamma = 0.999\n",
    "epsilon = 0.1\n",
    "seed = 1234 # Do not change this value!\n",
    "\n",
    "# let's set a random see\n",
    "seed_sequence = np.random.SeedSequence(seed)\n",
    "rng = np.random.default_rng(seed_sequence)\n",
    "\n",
    "# let's create the example policy\n",
    "policy = gg.random_policy(cliff_env)\n",
    "\n",
    "# and now let's see how good the example policy really is\n",
    "policy_value = td_policy_evaluation(\n",
    "    rng=rng,\n",
    "    env=cliff_env,\n",
    "    policy=policy,\n",
    "    num_episodes=num_episodes,\n",
    "    gamma=gamma,\n",
    "    alpha=alpha,\n",
    "    seed=seed,\n",
    ")\n",
    "\n",
    "assert len(policy_value) > 0, \"Your implementation generates an empty value function\"\n",
    "for state, val in policy_value.items():\n",
    "    assert testing.is_type(state, [np.int64, int])\n",
    "    assert testing.is_type(val, [float, int])\n",
    "\n"
   ]
  },
  {
   "cell_type": "markdown",
   "metadata": {
    "deletable": false,
    "editable": false,
    "nbgrader": {
     "cell_type": "markdown",
     "checksum": "6659d12eed02a35403a4313441aa859e",
     "grade": false,
     "grade_id": "cell-a3c04c4616845e37",
     "locked": true,
     "schema_version": 3,
     "solution": false,
     "task": false
    }
   },
   "source": [
    "### Now let's try TD(0) to evaluate the random policy"
   ]
  },
  {
   "cell_type": "code",
   "execution_count": 4,
   "metadata": {
    "ExecuteTime": {
     "end_time": "2024-12-19T19:48:41.663077Z",
     "start_time": "2024-12-19T19:48:40.132354Z"
    },
    "deletable": false,
    "editable": false,
    "nbgrader": {
     "cell_type": "code",
     "checksum": "7db6d72bb6b9ac1560dc2580b7095dc0",
     "grade": false,
     "grade_id": "cell-177de86c7f2a3f57",
     "locked": true,
     "schema_version": 3,
     "solution": false,
     "task": false
    }
   },
   "outputs": [
    {
     "name": "stdout",
     "output_type": "stream",
     "text": [
      "\n",
      "FFFFFFFFFFFF\n",
      "FFFFFFFFFFFF\n",
      "FFFFFFFFFFFF\n",
      "\u001B[41mS\u001B[0mHHHHHHHHHHG\n"
     ]
    },
    {
     "name": "stderr",
     "output_type": "stream",
     "text": [
      "/Library/Frameworks/Python.framework/Versions/3.12/lib/python3.12/site-packages/gymnasium/core.py:311: UserWarning: \u001B[33mWARN: env.ncol to get variables from other wrappers is deprecated and will be removed in v1.0, to get this variable you can do `env.unwrapped.ncol` for environment variables or `env.get_wrapper_attr('ncol')` that will search the reminding wrappers.\u001B[0m\n",
      "  logger.warn(\n",
      "/Library/Frameworks/Python.framework/Versions/3.12/lib/python3.12/site-packages/gymnasium/core.py:311: UserWarning: \u001B[33mWARN: env.nrow to get variables from other wrappers is deprecated and will be removed in v1.0, to get this variable you can do `env.unwrapped.nrow` for environment variables or `env.get_wrapper_attr('nrow')` that will search the reminding wrappers.\u001B[0m\n",
      "  logger.warn(\n",
      "/Library/Frameworks/Python.framework/Versions/3.12/lib/python3.12/site-packages/gymnasium/core.py:311: UserWarning: \u001B[33mWARN: env.desc to get variables from other wrappers is deprecated and will be removed in v1.0, to get this variable you can do `env.unwrapped.desc` for environment variables or `env.get_wrapper_attr('desc')` that will search the reminding wrappers.\u001B[0m\n",
      "  logger.warn(\n"
     ]
    },
    {
     "data": {
      "image/png": "[encoded data removed]",
      "text/plain": [
       "<Figure size 640x480 with 1 Axes>"
      ]
     },
     "metadata": {},
     "output_type": "display_data"
    },
    {
     "data": {
      "image/png": "[encoded data removed]",
      "text/plain": [
       "<Figure size 640x480 with 2 Axes>"
      ]
     },
     "metadata": {},
     "output_type": "display_data"
    }
   ],
   "source": [
    "cliff_env = gym.make(\"Cliff-v0\")\n",
    "cliff_env.reset()\n",
    "cliff_env.render()\n",
    "\n",
    "num_episodes = 1000\n",
    "alpha = 0.9\n",
    "gamma = 0.999\n",
    "epsilon = 0.1\n",
    "seed = 9928\n",
    "\n",
    "seed_sequence = np.random.SeedSequence(seed)\n",
    "rng = np.random.default_rng(seed_sequence)\n",
    "\n",
    "policy = gg.random_policy(cliff_env)\n",
    "V = td_policy_evaluation(\n",
    "    rng=rng,\n",
    "    env=cliff_env,\n",
    "    policy=policy,\n",
    "    num_episodes=num_episodes,\n",
    "    gamma=gamma,\n",
    "    alpha=alpha,\n",
    "    seed=seed,\n",
    ")\n",
    "\n",
    "gg.plot_policy(cliff_env, policy)\n",
    "gg.plot_value_function(cliff_env, V, vmax=-1)"
   ]
  },
  {
   "cell_type": "code",
   "execution_count": 5,
   "metadata": {
    "ExecuteTime": {
     "end_time": "2024-12-19T19:48:41.669433Z",
     "start_time": "2024-12-19T19:48:41.664985Z"
    },
    "deletable": false,
    "editable": false,
    "nbgrader": {
     "cell_type": "code",
     "checksum": "4f62a151276a5f8a30a77027c84825d8",
     "grade": false,
     "grade_id": "cell-96daf2ecc3b85030",
     "locked": true,
     "schema_version": 3,
     "solution": false,
     "task": false
    }
   },
   "outputs": [],
   "source": [
    "def eps_greedy_from_qs(\n",
    "    rng: np.random._generator.Generator,\n",
    "    qs: np.ndarray,\n",
    "    epsilon: float,\n",
    "):\n",
    "    \"\"\"\n",
    "    a helper functions that define epsilon greedy policies\n",
    "    from Q values. this function breaks ties uniformly at\n",
    "    random (if qs are all equal) you should use it where appropriate!\n",
    "\n",
    "    Args:\n",
    "        rng: random number generator\n",
    "        qs: an action-value function\n",
    "        epsilon: probability of selecting a random action\n",
    "\n",
    "    Returns:\n",
    "        policy\n",
    "\n",
    "    \"\"\"\n",
    "    # find all currently optimal actions\n",
    "    optimal_actions = np.argwhere(qs == np.amax(qs))\n",
    "\n",
    "    # choose any of the optimal actions uniformly at random\n",
    "    optimal_action = rng.choice(optimal_actions)\n",
    "\n",
    "    # build an eps-soft policy:\n",
    "\n",
    "    # compute eps/A(s)\n",
    "    eps_p = epsilon / len(qs)\n",
    "\n",
    "    # fill empty array of the same shape as 'qs' with eps/|A(s)|\n",
    "    ps = np.full_like(qs, eps_p)\n",
    "\n",
    "    # assign most probability mass to optimal action\n",
    "    ps[optimal_action] += 1 - epsilon\n",
    "    return ps"
   ]
  },
  {
   "cell_type": "markdown",
   "metadata": {
    "deletable": false,
    "editable": false,
    "nbgrader": {
     "cell_type": "markdown",
     "checksum": "713c702cbaa231f6c84cd64cd0c56422",
     "grade": false,
     "grade_id": "cell-9cb76439a26faa7f",
     "locked": true,
     "schema_version": 3,
     "solution": false,
     "task": false
    }
   },
   "source": [
    "## (2) SARSA (5 Points)\n",
    "Your task is to implement SARSA, and test it on the Cliff environment."
   ]
  },
  {
   "cell_type": "code",
   "execution_count": 6,
   "metadata": {
    "ExecuteTime": {
     "end_time": "2024-12-19T19:48:41.687866Z",
     "start_time": "2024-12-19T19:48:41.672897Z"
    },
    "deletable": false,
    "nbgrader": {
     "cell_type": "code",
     "checksum": "055f3ced4d2f47562001dec0f1656d07",
     "grade": false,
     "grade_id": "cell-26d1c5ec31776ea2",
     "locked": false,
     "schema_version": 3,
     "solution": true,
     "task": false
    }
   },
   "outputs": [],
   "source": [
    "def sarsa(\n",
    "    rng: np.random._generator.Generator,\n",
    "    env: gym.Env,\n",
    "    num_episodes: int,\n",
    "    gamma: float = 0.999,\n",
    "    alpha: float = 0.1,\n",
    "    epsilon: float = 0.1,\n",
    "    seed: int = 1234,\n",
    ") -> Dict[int, float]:\n",
    "    \"\"\"\n",
    "    SARSA algorithm, which calculates the value function\n",
    "    and a policy.\n",
    "\n",
    "    Args:\n",
    "        rng: random number generator\n",
    "        env: the openai gym environment\n",
    "        num_episodes: number of episodes to sample\n",
    "        gamma: the discount factor\n",
    "        alpha: step size\n",
    "        epsilon: probability of random action\n",
    "\n",
    "    Returns:\n",
    "        the policy\n",
    "        the state-action value function\n",
    "    \"\"\"\n",
    "\n",
    "    # this is how we store the state-action value function\n",
    "    Q = defaultdict(lambda: np.zeros(env.action_space.n))\n",
    "    # this is simply a helper array that helps us sample from available actions, given a policy\n",
    "    actions = np.arange(env.action_space.n)\n",
    "\n",
    "    for si in range(1, num_episodes + 1):\n",
    "        if si % 10000 == 0:\n",
    "            print(\"{}/{} Episodes\".format(si, num_episodes))\n",
    "\n",
    "        state, _ = env.reset(seed=seed)\n",
    "        # TODO\n",
    "        # a = ? -> a sample from an eps-greedy policy,\n",
    "        # based on the current Q values\n",
    "        # you may want use the helper function defined above, to do this conveniently\n",
    "\n",
    "        # done = False\n",
    "        # while not done:\n",
    "        # TODO\n",
    "\n",
    "        # YOUR CODE HERE\n",
    "        a = rng.choice(actions, p=eps_greedy_from_qs(rng, Q[state], epsilon))\n",
    "        \n",
    "        done = False\n",
    "        while not done:\n",
    "            next_state, reward, terminated, truncated, _ = env.step(a)\n",
    "            done = terminated or truncated\n",
    "            \n",
    "            if not done:\n",
    "                next_a = rng.choice(actions, p=eps_greedy_from_qs(rng, Q[next_state], epsilon))\n",
    "                \n",
    "                Q[state][a] += alpha * (reward + gamma * Q[next_state][next_a] - Q[state][a])\n",
    "                \n",
    "                state = next_state\n",
    "                a = next_a\n",
    "            else:\n",
    "                Q[state][a] += alpha * (reward - Q[state][a])\n",
    "\n",
    "    # after all the episodes, there might be states missing from 'policy', as exploration\n",
    "    # could have missed some states. so if we have not encountered a state yet, behave randomly\n",
    "    policy = defaultdict(lambda: np.ones(env.action_space.n) / env.action_space.n)\n",
    "\n",
    "    # make a deterministic policy, based on the Q values\n",
    "    for s, qs in Q.items():\n",
    "        policy[s] = np.eye(env.action_space.n)[np.argmax(qs)]\n",
    "    return policy, Q"
   ]
  },
  {
   "cell_type": "code",
   "execution_count": 7,
   "metadata": {
    "ExecuteTime": {
     "end_time": "2024-12-19T19:48:41.719736Z",
     "start_time": "2024-12-19T19:48:41.692580Z"
    },
    "deletable": false,
    "editable": false,
    "nbgrader": {
     "cell_type": "code",
     "checksum": "6c95c1452ab356a3c54ff83d78892592",
     "grade": true,
     "grade_id": "cell-4421afa7a80091f0",
     "locked": true,
     "points": 5,
     "schema_version": 3,
     "solution": false,
     "task": false
    }
   },
   "outputs": [],
   "source": [
    "# let's create an environment\n",
    "cliff_env = gym.make(\"Cliff-v0\")\n",
    "\n",
    "num_episodes = 1\n",
    "alpha = 0.1\n",
    "gamma = 0.999\n",
    "epsilon = 0.5\n",
    "seed = 23423\n",
    "\n",
    "# let's set a random see\n",
    "seed_sequence = np.random.SeedSequence(seed)\n",
    "rng = np.random.default_rng(seed_sequence)\n",
    "\n",
    "# and now let's see how good the example policy really is\n",
    "policy, Q = sarsa(\n",
    "    rng=rng,\n",
    "    env=cliff_env,\n",
    "    num_episodes=num_episodes,\n",
    "    gamma=gamma,\n",
    "    alpha=alpha,\n",
    "    epsilon=epsilon,\n",
    "    seed=seed,\n",
    ")\n",
    "\n",
    "assert len(Q) > 0, \"Your implementation generates an empty value function\"\n",
    "for state, val in Q.items():\n",
    "    assert testing.is_type(state, [np.int64, int])\n",
    "    assert testing.is_type(val, np.ndarray)\n",
    "\n"
   ]
  },
  {
   "cell_type": "markdown",
   "metadata": {
    "deletable": false,
    "editable": false,
    "nbgrader": {
     "cell_type": "markdown",
     "checksum": "0128cc12ddcc9a3e7737c438ef5aec4c",
     "grade": false,
     "grade_id": "cell-e1d83f0b40a740e0",
     "locked": true,
     "schema_version": 3,
     "solution": false,
     "task": false
    }
   },
   "source": [
    "### Setup and Run"
   ]
  },
  {
   "cell_type": "code",
   "execution_count": 8,
   "metadata": {
    "ExecuteTime": {
     "end_time": "2024-12-19T19:49:02.058567Z",
     "start_time": "2024-12-19T19:48:41.722261Z"
    },
    "deletable": false,
    "editable": false,
    "nbgrader": {
     "cell_type": "code",
     "checksum": "11b71cce8f2cd2d8f820d801f8d28fd5",
     "grade": false,
     "grade_id": "cell-6aa5357cdaecffdb",
     "locked": true,
     "schema_version": 3,
     "solution": false,
     "task": false
    }
   },
   "outputs": [
    {
     "name": "stdout",
     "output_type": "stream",
     "text": [
      "\n",
      "\n",
      "------------------------------\n",
      "SARSA\n",
      "num_episodes 5000\n",
      "alpha 0.1\n",
      "gamma 0.999\n"
     ]
    },
    {
     "data": {
      "image/png": "[encoded data removed]",
      "text/plain": [
       "<Figure size 640x480 with 1 Axes>"
      ]
     },
     "metadata": {},
     "output_type": "display_data"
    },
    {
     "data": {
      "image/png": "[encoded data removed]",
      "text/plain": [
       "<Figure size 640x480 with 2 Axes>"
      ]
     },
     "metadata": {},
     "output_type": "display_data"
    }
   ],
   "source": [
    "# let's create an environment\n",
    "cliff_env = gym.make(\"Cliff-v0\")\n",
    "\n",
    "# SARSA needs many episodes\n",
    "num_episodes = 5000\n",
    "# SARSA needs a small step size\n",
    "alpha = 0.1\n",
    "gamma = 0.999\n",
    "# SARSA needs to explore a lot with this small amount of episodes\n",
    "# if this is set too low, we'll end up with policies that will\n",
    "# produce infinite loops, once we try to evaluate the policy with\n",
    "# TD policy evaluation!\n",
    "# (i.e. policies that loop between two or more states)\n",
    "epsilon = 0.1\n",
    "seed = 7243\n",
    "\n",
    "# let's set a random see\n",
    "seed_sequence = np.random.SeedSequence(seed)\n",
    "rng = np.random.default_rng(seed_sequence)\n",
    "\n",
    "epsilon = 0.5\n",
    "\n",
    "print(\"\\n\\n\" + \"-\" * 30)\n",
    "print(\"SARSA\")\n",
    "print(\"num_episodes\", num_episodes)\n",
    "print(\"alpha\", alpha)\n",
    "print(\"gamma\", gamma)\n",
    "policy, Q = sarsa(\n",
    "    rng=rng,\n",
    "    env=cliff_env,\n",
    "    num_episodes=num_episodes,\n",
    "    gamma=gamma,\n",
    "    alpha=alpha,\n",
    "    epsilon=epsilon,\n",
    "    seed=seed,\n",
    ")\n",
    "\n",
    "V = defaultdict(lambda: 0)\n",
    "for s, qs in Q.items():\n",
    "    V[s] = np.max(qs)\n",
    "\n",
    "gg.plot_policy(cliff_env, policy)\n",
    "gg.plot_value_function(cliff_env, V, vmax=-1)"
   ]
  },
  {
   "cell_type": "markdown",
   "metadata": {
    "deletable": false,
    "editable": false,
    "nbgrader": {
     "cell_type": "markdown",
     "checksum": "90f241a5a29bdca2bf6aba3e97c8cc1d",
     "grade": false,
     "grade_id": "cell-982458c3cad0dae7",
     "locked": true,
     "schema_version": 3,
     "solution": false,
     "task": false
    }
   },
   "source": [
    "## (3) Q-Learning (5 points)\n",
    "Your task is to implement Q-Learning, and test it on the `Cliff` environment."
   ]
  },
  {
   "cell_type": "code",
   "execution_count": 9,
   "metadata": {
    "ExecuteTime": {
     "end_time": "2024-12-19T19:49:02.070720Z",
     "start_time": "2024-12-19T19:49:02.060818Z"
    },
    "deletable": false,
    "nbgrader": {
     "cell_type": "code",
     "checksum": "783796fa102859962980fe672a08c5bf",
     "grade": false,
     "grade_id": "cell-ee01898f43d5898d",
     "locked": false,
     "schema_version": 3,
     "solution": true,
     "task": false
    }
   },
   "outputs": [],
   "source": [
    "def q_learning(\n",
    "    rng: np.random._generator.Generator,\n",
    "    env: gym.Env,\n",
    "    num_episodes: int,\n",
    "    gamma: float = 0.999,\n",
    "    alpha: float = 0.1,\n",
    "    epsilon: float = 0.1,\n",
    "    seed: int = 1234,\n",
    ") -> Dict[int, float]:\n",
    "    \"\"\"\n",
    "    Q-LEARNING algorithm, which calculates the value function\n",
    "    and a policy.\n",
    "\n",
    "    Args:\n",
    "        rng: random number generator\n",
    "        env: the openai gym environment\n",
    "        num_episodes: number of episodes to sample\n",
    "        gamma: the discount factor\n",
    "        alpha: step size\n",
    "        epsilon: probability of random action\n",
    "\n",
    "    Returns:\n",
    "        the policy\n",
    "        the state-action value function\n",
    "    \"\"\"\n",
    "    # YOUR CODE HERE\n",
    "    # this is how we store the state-action value function\n",
    "    Q = defaultdict(lambda: np.zeros(env.action_space.n))\n",
    "    # this is simply a helper array that helps us sample from available actions, given a policy\n",
    "    actions = np.arange(env.action_space.n)\n",
    "\n",
    "    for si in range(1, num_episodes + 1):\n",
    "        if si % 10000 == 0:\n",
    "            print(\"{}/{} Episodes\".format(si, num_episodes))\n",
    "\n",
    "        state, _ = env.reset(seed=seed)\n",
    "        \n",
    "        done = False\n",
    "        while not done:\n",
    "            a = rng.choice(actions, p=eps_greedy_from_qs(rng, Q[state], epsilon))\n",
    "            \n",
    "            next_state, reward, terminated, truncated, _ = env.step(a)\n",
    "            done = terminated or truncated\n",
    "            \n",
    "            if not done:\n",
    "                Q[state][a] += alpha * (reward + gamma * np.max(Q[next_state]) - Q[state][a])\n",
    "            else:\n",
    "                Q[state][a] += alpha * (reward - Q[state][a])\n",
    "            \n",
    "            state = next_state\n",
    "\n",
    "    # after all the episodes, there might be states missing from 'policy', as exploration\n",
    "    # could have missed some states. so if we have not encountered a state yet, behave randomly\n",
    "    policy = defaultdict(lambda: np.ones(env.action_space.n) / env.action_space.n)\n",
    "\n",
    "    # make a deterministic policy, based on the Q values\n",
    "    for s, qs in Q.items():\n",
    "        policy[s] = np.eye(env.action_space.n)[np.argmax(qs)]\n",
    "    \n",
    "    return policy, Q\n",
    "    # TODO (look at SARSA to get started)"
   ]
  },
  {
   "cell_type": "code",
   "execution_count": 10,
   "metadata": {
    "ExecuteTime": {
     "end_time": "2024-12-19T19:49:02.097336Z",
     "start_time": "2024-12-19T19:49:02.079701Z"
    },
    "deletable": false,
    "editable": false,
    "nbgrader": {
     "cell_type": "code",
     "checksum": "d433c5d87d3f1b5a0225ffe6e0ee1a13",
     "grade": true,
     "grade_id": "cell-927a944cfc469fd6",
     "locked": true,
     "points": 5,
     "schema_version": 3,
     "solution": false,
     "task": false
    }
   },
   "outputs": [],
   "source": [
    "# let's create an environment\n",
    "cliff_env = gym.make(\"Cliff-v0\")\n",
    "\n",
    "num_episodes = 1\n",
    "alpha = 0.9\n",
    "gamma = 0.999\n",
    "epsilon = 0.1\n",
    "seed = 2398\n",
    "\n",
    "# let's set a random see\n",
    "seed_sequence = np.random.SeedSequence(seed)\n",
    "rng = np.random.default_rng(seed_sequence)\n",
    "\n",
    "# and now let's see how good the example policy really is\n",
    "policy, Q = q_learning(\n",
    "    rng=rng,\n",
    "    env=cliff_env,\n",
    "    num_episodes=num_episodes,\n",
    "    gamma=gamma,\n",
    "    alpha=alpha,\n",
    "    epsilon=epsilon,\n",
    "    seed=seed,\n",
    ")\n",
    "\n",
    "assert len(Q) > 0, \"Your implementation generates an empty value function\"\n",
    "for state, val in Q.items():\n",
    "    assert testing.is_type(state, [np.int64, int])\n",
    "    assert testing.is_type(val, np.ndarray)\n",
    "\n"
   ]
  },
  {
   "cell_type": "markdown",
   "metadata": {},
   "source": [
    "### Setup and Run"
   ]
  },
  {
   "cell_type": "code",
   "execution_count": 11,
   "metadata": {
    "ExecuteTime": {
     "end_time": "2024-12-19T19:49:04.367638Z",
     "start_time": "2024-12-19T19:49:02.100326Z"
    },
    "deletable": false,
    "editable": false,
    "nbgrader": {
     "cell_type": "code",
     "checksum": "ee664352f55d5546ac448d3c57d97c9d",
     "grade": false,
     "grade_id": "cell-f49c076fdebbcbab",
     "locked": true,
     "schema_version": 3,
     "solution": false,
     "task": false
    }
   },
   "outputs": [
    {
     "name": "stdout",
     "output_type": "stream",
     "text": [
      "\n",
      "FFFFFFFFFFFF\n",
      "FFFFFFFFFFFF\n",
      "FFFFFFFFFFFF\n",
      "\u001B[41mS\u001B[0mHHHHHHHHHHG\n",
      "\n",
      "\n",
      "------------------------------\n",
      "Q-Learning\n",
      "num_episodes 1000\n",
      "alpha 0.9\n",
      "gamma 0.999\n"
     ]
    },
    {
     "data": {
      "image/png": "[encoded data removed]",
      "text/plain": [
       "<Figure size 640x480 with 1 Axes>"
      ]
     },
     "metadata": {},
     "output_type": "display_data"
    },
    {
     "data": {
      "image/png": "[encoded data removed]",
      "text/plain": [
       "<Figure size 640x480 with 2 Axes>"
      ]
     },
     "metadata": {},
     "output_type": "display_data"
    }
   ],
   "source": [
    "cliff_env = gym.make(\"Cliff-v0\")\n",
    "cliff_env.reset()\n",
    "cliff_env.render()\n",
    "\n",
    "num_episodes = 1000\n",
    "alpha = 0.9\n",
    "gamma = 0.999\n",
    "epsilon = 0.1\n",
    "seed = 2473\n",
    "\n",
    "# let's set a random seed\n",
    "seed_sequence = np.random.SeedSequence(seed)\n",
    "rng = np.random.default_rng(seed_sequence)\n",
    "\n",
    "print(\"\\n\\n\" + \"-\" * 30)\n",
    "print(\"Q-Learning\")\n",
    "print(\"num_episodes\", num_episodes)\n",
    "print(\"alpha\", alpha)\n",
    "print(\"gamma\", gamma)\n",
    "\n",
    "policy, Q = q_learning(\n",
    "    rng=rng,\n",
    "    env=cliff_env,\n",
    "    num_episodes=num_episodes,\n",
    "    gamma=gamma,\n",
    "    alpha=alpha,\n",
    "    epsilon=epsilon,\n",
    "    seed=seed,\n",
    ")\n",
    "\n",
    "V = defaultdict(lambda: 0)\n",
    "for s, qs in Q.items():\n",
    "    V[s] = np.max(qs)\n",
    "\n",
    "gg.plot_policy(cliff_env, policy)\n",
    "gg.plot_value_function(cliff_env, V, vmax=-1)"
   ]
  },
  {
   "cell_type": "markdown",
   "metadata": {},
   "source": [
    "## (4) Expected SARSA (5 points)"
   ]
  },
  {
   "cell_type": "code",
   "execution_count": 12,
   "metadata": {
    "ExecuteTime": {
     "end_time": "2024-12-19T19:49:04.377609Z",
     "start_time": "2024-12-19T19:49:04.369492Z"
    },
    "deletable": false,
    "nbgrader": {
     "cell_type": "code",
     "checksum": "1b27a21dc9253572b619341f2aba6ed2",
     "grade": false,
     "grade_id": "cell-64ff3728d5030da7",
     "locked": false,
     "schema_version": 3,
     "solution": true,
     "task": false
    }
   },
   "outputs": [],
   "source": [
    "def expected_sarsa(\n",
    "    rng: np.random._generator.Generator,\n",
    "    env: gym.Env,\n",
    "    num_episodes: int,\n",
    "    gamma: float = 0.999,\n",
    "    alpha: float = 0.1,\n",
    "    epsilon: float = 0.1,\n",
    "    seed: int = 1234,\n",
    ") -> Dict[int, float]:\n",
    "    \"\"\"\n",
    "    EXPECTED SARSA algorithm, which calculates the value function\n",
    "    and a policy.\n",
    "\n",
    "    Args:\n",
    "        rng: random number generators\n",
    "        env: the openai gym environment\n",
    "        num_episodes: number of episodes to sample\n",
    "        gamma: the discount factor\n",
    "        alpha: step size\n",
    "        epsilon: probability of random action\n",
    "\n",
    "    Returns:\n",
    "        the policy\n",
    "        the state-action value function\n",
    "    \"\"\"\n",
    "    # YOUR CODE HERE\n",
    "    # this is how we store the state-action value function\n",
    "    Q = defaultdict(lambda: np.zeros(env.action_space.n))\n",
    "    # this is simply a helper array that helps us sample from available actions, given a policy\n",
    "    actions = np.arange(env.action_space.n)\n",
    "\n",
    "    for si in range(1, num_episodes + 1):\n",
    "        if si % 10000 == 0:\n",
    "            print(\"{}/{} Episodes\".format(si, num_episodes))\n",
    "\n",
    "        state, _ = env.reset(seed=seed)\n",
    "        \n",
    "        done = False\n",
    "        while not done:\n",
    "            policy_a = eps_greedy_from_qs(rng, Q[state], epsilon)\n",
    "            a = rng.choice(actions, p=policy_a)\n",
    "            \n",
    "            next_state, reward, terminated, truncated, _ = env.step(a)\n",
    "            done = terminated or truncated\n",
    "            \n",
    "            if not done:\n",
    "                expected_next_value = np.sum(eps_greedy_from_qs(rng, Q[next_state], epsilon) * Q[next_state])\n",
    "                \n",
    "                Q[state][a] += alpha * (reward + gamma * expected_next_value - Q[state][a])\n",
    "            else:\n",
    "                Q[state][a] += alpha * (reward - Q[state][a])\n",
    "            \n",
    "            state = next_state\n",
    "\n",
    "    # after all the episodes, there might be states missing from 'policy', as exploration\n",
    "    # could have missed some states. so if we have not encountered a state yet, behave randomly\n",
    "    policy = defaultdict(lambda: np.ones(env.action_space.n) / env.action_space.n)\n",
    "\n",
    "    # make a deterministic policy, based on the Q values\n",
    "    for s, qs in Q.items():\n",
    "        policy[s] = np.eye(env.action_space.n)[np.argmax(qs)]\n",
    "    \n",
    "    return policy, Q\n",
    "\n",
    "    # TODO (look at SARSA to get started)"
   ]
  },
  {
   "cell_type": "code",
   "execution_count": 13,
   "metadata": {
    "ExecuteTime": {
     "end_time": "2024-12-19T19:49:04.394788Z",
     "start_time": "2024-12-19T19:49:04.380961Z"
    },
    "deletable": false,
    "editable": false,
    "nbgrader": {
     "cell_type": "code",
     "checksum": "6064394a6bccb12201dde03dfe31b8e7",
     "grade": true,
     "grade_id": "cell-01806ffeee08188c",
     "locked": true,
     "points": 5,
     "schema_version": 3,
     "solution": false,
     "task": false
    }
   },
   "outputs": [],
   "source": [
    "# let's create an environment\n",
    "cliff_env = gym.make(\"Cliff-v0\")\n",
    "\n",
    "num_episodes = 1\n",
    "alpha = 0.9\n",
    "gamma = 0.999\n",
    "epsilon = 0.1\n",
    "seed = 3847\n",
    "\n",
    "# let's set a random seed\n",
    "seed_sequence = np.random.SeedSequence(seed)\n",
    "rng = np.random.default_rng(seed_sequence)\n",
    "\n",
    "# and now let's see how good the example policy really is\n",
    "policy, Q = expected_sarsa(\n",
    "    rng=rng,\n",
    "    env=cliff_env,\n",
    "    num_episodes=num_episodes,\n",
    "    gamma=gamma,\n",
    "    alpha=alpha,\n",
    "    epsilon=epsilon,\n",
    "    seed=seed,\n",
    ")\n",
    "\n",
    "assert len(Q) > 0, \"Your implementation generates an empty value function\"\n",
    "for state, val in Q.items():\n",
    "    assert testing.is_type(state, [np.int64, int])\n",
    "    assert testing.is_type(val, np.ndarray)\n",
    "\n"
   ]
  },
  {
   "cell_type": "markdown",
   "metadata": {
    "deletable": false,
    "editable": false,
    "nbgrader": {
     "cell_type": "markdown",
     "checksum": "b366d9d5e90dcf221025e832c9c5530c",
     "grade": false,
     "grade_id": "cell-0ba523370496b9c1",
     "locked": true,
     "schema_version": 3,
     "solution": false,
     "task": false
    }
   },
   "source": [
    "### Setup and Run"
   ]
  },
  {
   "cell_type": "code",
   "execution_count": 14,
   "metadata": {
    "ExecuteTime": {
     "end_time": "2024-12-19T19:49:09.613097Z",
     "start_time": "2024-12-19T19:49:04.397757Z"
    },
    "deletable": false,
    "editable": false,
    "nbgrader": {
     "cell_type": "code",
     "checksum": "f4ada05a97bebe14fcfea25b93e3f254",
     "grade": false,
     "grade_id": "cell-2d6ffc114b23fdec",
     "locked": true,
     "schema_version": 3,
     "solution": false,
     "task": false
    }
   },
   "outputs": [
    {
     "name": "stdout",
     "output_type": "stream",
     "text": [
      "\n",
      "FFFFFFFFFFFF\n",
      "FFFFFFFFFFFF\n",
      "FFFFFFFFFFFF\n",
      "\u001B[41mS\u001B[0mHHHHHHHHHHG\n",
      "\n",
      "\n",
      "------------------------------\n",
      "Expected SARSA\n",
      "num_episodes 1000\n",
      "alpha 0.9\n",
      "gamma 0.999\n"
     ]
    },
    {
     "data": {
      "image/png": "[encoded data removed]",
      "text/plain": [
       "<Figure size 640x480 with 1 Axes>"
      ]
     },
     "metadata": {},
     "output_type": "display_data"
    },
    {
     "data": {
      "image/png": "[encoded data removed]",
      "text/plain": [
       "<Figure size 640x480 with 2 Axes>"
      ]
     },
     "metadata": {},
     "output_type": "display_data"
    }
   ],
   "source": [
    "cliff_env = gym.make(\"Cliff-v0\")\n",
    "cliff_env.reset()\n",
    "cliff_env.render()\n",
    "\n",
    "\n",
    "# aha - this is interesting! expected SARSA needs far fewer episodes\n",
    "# than SARSA!\n",
    "num_episodes = 1000\n",
    "alpha = 0.9\n",
    "gamma = 0.999\n",
    "epsilon = 0.1\n",
    "seed = 9867\n",
    "\n",
    "# let's set a random seed\n",
    "seed_sequence = np.random.SeedSequence(seed)\n",
    "rng = np.random.default_rng(seed_sequence)\n",
    "\n",
    "### Run Algorithm\n",
    "\n",
    "print(\"\\n\\n\" + \"-\" * 30)\n",
    "print(\"Expected SARSA\")\n",
    "print(\"num_episodes\", num_episodes)\n",
    "print(\"alpha\", alpha)\n",
    "print(\"gamma\", gamma)\n",
    "policy, Q = expected_sarsa(\n",
    "    rng=rng,\n",
    "    env=cliff_env,\n",
    "    num_episodes=num_episodes,\n",
    "    gamma=gamma,\n",
    "    alpha=alpha,\n",
    "    epsilon=epsilon,\n",
    "    seed=seed,\n",
    ")\n",
    "\n",
    "V = defaultdict(lambda: 0)\n",
    "for s, qs in Q.items():\n",
    "    V[s] = np.max(qs)\n",
    "\n",
    "gg.plot_policy(cliff_env, policy)\n",
    "gg.plot_value_function(cliff_env, V, vmax=-1)"
   ]
  },
  {
   "cell_type": "markdown",
   "metadata": {
    "deletable": false,
    "editable": false,
    "nbgrader": {
     "cell_type": "markdown",
     "checksum": "63c242d36c0a440fa87ac296aec0d44f",
     "grade": false,
     "grade_id": "cell-588f87f70c5d9bae",
     "locked": true,
     "schema_version": 3,
     "solution": false,
     "task": false
    }
   },
   "source": [
    "### Theory questions (10 points)\n",
    "\n",
    "Answer whether the following statements are true or false (1 point each question)\n",
    "\n",
    "1. TD methods require a model of the environment (i.e., the dynamics and reward function)\n",
    "2. TD(0) uses bootstrapping (i.e., they update the value function using previous estimates of the value function)\n",
    "3. TD and Monte Carlo methods are similar in that they need to wait until the end of an episode to compute updates\n",
    "4. In practice, TD methods converge faster than Monte Carlo methods on stochastic tasks\n",
    "5. An off-policy version of Expected Sarsa is equivalent to Q-learning if the target policy is greedy.\n",
    "6. In the standard Q-learning update ($Q(S,A) \\leftarrow Q(S, A) + \\alpha [R + \\gamma \\max_a Q(S', a) - Q(S, A)]$) taking the maximum over previous estimates of $Q$ **does not** lead to positive bias."
   ]
  },
  {
   "cell_type": "code",
   "execution_count": 15,
   "metadata": {
    "ExecuteTime": {
     "end_time": "2024-12-19T19:49:09.623174Z",
     "start_time": "2024-12-19T19:49:09.615988Z"
    },
    "deletable": false,
    "nbgrader": {
     "cell_type": "code",
     "checksum": "6ec6485b0e85555a947980b152cac188",
     "grade": false,
     "grade_id": "cell-b0fcff285468d5b5",
     "locked": false,
     "schema_version": 3,
     "solution": true,
     "task": false
    }
   },
   "outputs": [],
   "source": [
    "# store True or False\n",
    "results = {\n",
    "    \"1\": None,\n",
    "    \"2\": None,\n",
    "    \"3\": None,\n",
    "    \"4\": None,\n",
    "    \"5\": None,\n",
    "    \"6\": None,\n",
    "}\n",
    "\n",
    "# YOUR CODE HERE\n",
    "# store True or False\n",
    "results = {\n",
    "    \"1\": False, \n",
    "    \"2\": True, \n",
    "    \"3\": False,\n",
    "    \"4\": True, \n",
    "    \"5\": True,  \n",
    "    \"6\": False,\n",
    "}"
   ]
  },
  {
   "cell_type": "code",
   "execution_count": 16,
   "metadata": {
    "ExecuteTime": {
     "end_time": "2024-12-19T19:49:09.631652Z",
     "start_time": "2024-12-19T19:49:09.626213Z"
    },
    "deletable": false,
    "editable": false,
    "nbgrader": {
     "cell_type": "code",
     "checksum": "90ba27efb1bedef615847127341d29f3",
     "grade": true,
     "grade_id": "cell-a0f7993ece0005dc",
     "locked": true,
     "points": 1,
     "schema_version": 3,
     "solution": false,
     "task": false
    }
   },
   "outputs": [],
   "source": [
    "assert testing.is_type(results[\"1\"], bool)"
   ]
  },
  {
   "cell_type": "code",
   "execution_count": 17,
   "metadata": {
    "ExecuteTime": {
     "end_time": "2024-12-19T19:49:09.639232Z",
     "start_time": "2024-12-19T19:49:09.634838Z"
    },
    "deletable": false,
    "editable": false,
    "nbgrader": {
     "cell_type": "code",
     "checksum": "7adf8cea76a67cdb185b9e2370f2df3d",
     "grade": true,
     "grade_id": "cell-f553a3f747f9db7e",
     "locked": true,
     "points": 1,
     "schema_version": 3,
     "solution": false,
     "task": false
    }
   },
   "outputs": [],
   "source": [
    "assert testing.is_type(results[\"2\"], bool)"
   ]
  },
  {
   "cell_type": "code",
   "execution_count": 18,
   "metadata": {
    "ExecuteTime": {
     "end_time": "2024-12-19T19:49:09.646705Z",
     "start_time": "2024-12-19T19:49:09.641436Z"
    },
    "deletable": false,
    "editable": false,
    "nbgrader": {
     "cell_type": "code",
     "checksum": "2591f2434b89cec36d36f2ed81a72fa5",
     "grade": true,
     "grade_id": "cell-49348722629aa7db",
     "locked": true,
     "points": 1,
     "schema_version": 3,
     "solution": false,
     "task": false
    }
   },
   "outputs": [],
   "source": [
    "assert testing.is_type(results[\"3\"], bool)"
   ]
  },
  {
   "cell_type": "code",
   "execution_count": 19,
   "metadata": {
    "ExecuteTime": {
     "end_time": "2024-12-19T19:49:09.656459Z",
     "start_time": "2024-12-19T19:49:09.650388Z"
    },
    "deletable": false,
    "editable": false,
    "nbgrader": {
     "cell_type": "code",
     "checksum": "2654b476da797b3a3ef1d1d6aaf248d6",
     "grade": true,
     "grade_id": "cell-738c0dfce4dee9da",
     "locked": true,
     "points": 1,
     "schema_version": 3,
     "solution": false,
     "task": false
    }
   },
   "outputs": [],
   "source": [
    "assert testing.is_type(results[\"4\"], bool)"
   ]
  },
  {
   "cell_type": "code",
   "execution_count": 20,
   "metadata": {
    "ExecuteTime": {
     "end_time": "2024-12-19T19:49:09.664567Z",
     "start_time": "2024-12-19T19:49:09.660578Z"
    },
    "deletable": false,
    "editable": false,
    "nbgrader": {
     "cell_type": "code",
     "checksum": "1cfb61e28c076b8e1807a814da395350",
     "grade": true,
     "grade_id": "cell-1b9566228de379cd",
     "locked": true,
     "points": 1,
     "schema_version": 3,
     "solution": false,
     "task": false
    }
   },
   "outputs": [],
   "source": [
    "assert testing.is_type(results[\"5\"], bool)"
   ]
  },
  {
   "cell_type": "code",
   "execution_count": 21,
   "metadata": {
    "ExecuteTime": {
     "end_time": "2024-12-19T19:49:09.674575Z",
     "start_time": "2024-12-19T19:49:09.667517Z"
    },
    "deletable": false,
    "editable": false,
    "nbgrader": {
     "cell_type": "code",
     "checksum": "9e1ce431295ead7d3675b4943b294c26",
     "grade": true,
     "grade_id": "cell-f604c4e323f8a8f9",
     "locked": true,
     "points": 1,
     "schema_version": 3,
     "solution": false,
     "task": false
    }
   },
   "outputs": [],
   "source": [
    "assert testing.is_type(results[\"6\"], bool)"
   ]
  },
  {
   "cell_type": "markdown",
   "metadata": {
    "deletable": false,
    "editable": false,
    "nbgrader": {
     "cell_type": "markdown",
     "checksum": "b440050207a187bcc0bd10f2042ab8b6",
     "grade": false,
     "grade_id": "cell-95366c15bd994af4",
     "locked": true,
     "schema_version": 3,
     "solution": false,
     "task": false
    }
   },
   "source": [
    "Answer the following questions in **one, short sentence**.\n",
    "1. Q-learning is considered an off-policy method. What are the target and behavior policies in Q-Learning? (2 points)"
   ]
  },
  {
   "cell_type": "markdown",
   "metadata": {
    "deletable": false,
    "nbgrader": {
     "cell_type": "markdown",
     "checksum": "3ce2de47cfd8921034835a9909dc8156",
     "grade": true,
     "grade_id": "cell-03bf107c77cb3168",
     "locked": false,
     "points": 2,
     "schema_version": 3,
     "solution": true,
     "task": false
    }
   },
   "source": [
    "<ul>\n",
    "<li>Target policy (the policy used to select the next action for computing the target value): Greedy policy based on current Q-values (max_a Q(s',a'))\n",
    "<li>Behavior policy (the policy used for exploration): ε-greedy policy based on current Q-values\n",
    "</ul>"
   ]
  },
  {
   "cell_type": "markdown",
   "metadata": {
    "deletable": false,
    "editable": false,
    "nbgrader": {
     "cell_type": "markdown",
     "checksum": "f571ac16a58530a2c9758fed081c6944",
     "grade": false,
     "grade_id": "cell-c024a2ba268539df",
     "locked": true,
     "schema_version": 3,
     "solution": false,
     "task": false
    }
   },
   "source": [
    "2. In the cliff walking example: Why does SARSA return a 'safe' path? You may want to consult the book, Example 6.6 if you are stuck. (2 point)"
   ]
  },
  {
   "cell_type": "markdown",
   "metadata": {
    "deletable": false,
    "nbgrader": {
     "cell_type": "markdown",
     "checksum": "86282c3e16b1132a6ee141e1df159fbb",
     "grade": true,
     "grade_id": "cell-1dea56a4047cf7cc",
     "locked": false,
     "points": 2,
     "schema_version": 3,
     "solution": true,
     "task": false
    }
   },
   "source": [
    "In the cliff walking example, SARSA returns a 'safe' path because it considers the next action that would actually be taken (on-policy), avoiding the cliff by learning to stay away from dangerous areas during exploration."
   ]
  },
  {
   "cell_type": "code",
   "execution_count": 21,
   "metadata": {
    "ExecuteTime": {
     "end_time": "2024-12-19T19:49:09.681615Z",
     "start_time": "2024-12-19T19:49:09.677857Z"
    }
   },
   "outputs": [],
   "source": []
  }
 ],
 "metadata": {
  "kernelspec": {
   "display_name": "Python 3 (ipykernel)",
   "language": "python",
   "name": "python3"
  },
  "language_info": {
   "codemirror_mode": {
    "name": "ipython",
    "version": 3
   },
   "file_extension": ".py",
   "mimetype": "text/x-python",
   "name": "python",
   "nbconvert_exporter": "python",
   "pygments_lexer": "ipython3",
   "version": "3.12.3"
  }
 },
 "nbformat": 4,
 "nbformat_minor": 4
}
